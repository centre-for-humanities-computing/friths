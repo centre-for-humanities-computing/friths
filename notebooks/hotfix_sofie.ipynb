{
 "cells": [
  {
   "cell_type": "code",
   "execution_count": 1,
   "metadata": {},
   "outputs": [],
   "source": [
    "import os\n",
    "import shutil\n",
    "from pathlib import Path\n",
    "\n",
    "import pandas as pd"
   ]
  },
  {
   "cell_type": "code",
   "execution_count": 8,
   "metadata": {},
   "outputs": [],
   "source": [
    "relative_root = Path('..')\n",
    "meta_parsed = pd.read_csv(relative_root.joinpath('data/interim/meta_publications_merged.csv'))\n",
    "meta_ocr = pd.read_csv(relative_root.joinpath('data/interim/meta_publications_ocr.csv'))"
   ]
  },
  {
   "cell_type": "code",
   "execution_count": 15,
   "metadata": {},
   "outputs": [],
   "source": [
    "destination_root = relative_root.joinpath('data/raw/publications_manual_export/UTA publications')\n",
    "\n",
    "# files to copy from `UTA publications`\n",
    "for i, row in meta_parsed.iterrows():\n",
    "    # input path stays unchanged\n",
    "    input_path = Path(row['path'])\n",
    "    filename = input_path.name\n",
    "\n",
    "    # copy directory structure from the UTA Publications    \n",
    "    path_structure = input_path.parent.parts[3:]\n",
    "    path_structure = Path(*path_structure)\n",
    "    # create destination directory\n",
    "    destination_dir = destination_root.joinpath(path_structure)\n",
    "    destination_dir.mkdir(parents=True, exist_ok=True)\n",
    "    # copy file\n",
    "    destination_file_path = destination_dir.joinpath(filename)\n",
    "    shutil.copy(input_path, destination_file_path)"
   ]
  },
  {
   "cell_type": "code",
   "execution_count": 21,
   "metadata": {},
   "outputs": [],
   "source": [
    "# files to copy from `publications_manual_export/ocr_files_after`\n",
    "input_root = relative_root.joinpath('data/raw/publications_manual_export/ocr_files_after')\n",
    "destination_root = relative_root.joinpath('data/raw/publications_manual_export/UTA publications')\n",
    "\n",
    "# files to copy from `UTA publications`\n",
    "for i, row in meta_ocr.iterrows():\n",
    "    # input path is used to generate destination path\n",
    "    imaginary_input_path = Path(row['path'])\n",
    "    # but the real input path is just the filename\n",
    "    filename = imaginary_input_path.name\n",
    "    input_path = input_root.joinpath(filename)\n",
    "\n",
    "    # copy directory structure from the UTA Publications    \n",
    "    path_structure = imaginary_input_path.parent.parts[3:]\n",
    "    path_structure = Path(*path_structure)\n",
    "    # create destination directory\n",
    "    destination_dir = destination_root.joinpath(path_structure)\n",
    "    destination_dir.mkdir(parents=True, exist_ok=True)\n",
    "    # copy file\n",
    "    destination_file_path = destination_dir.joinpath(filename)\n",
    "    shutil.copy(input_path, destination_file_path)"
   ]
  },
  {
   "cell_type": "code",
   "execution_count": 24,
   "metadata": {},
   "outputs": [
    {
     "data": {
      "text/plain": [
       "False"
      ]
     },
     "execution_count": 24,
     "metadata": {},
     "output_type": "execute_result"
    }
   ],
   "source": [
    "# make sure no files got lost\n",
    "\n",
    "def get_file_paths(folder_path: str) -> tuple[list, list]:\n",
    "    \"\"\"\n",
    "    \"\"\"\n",
    "\n",
    "    pdf_paths = []\n",
    "    other_paths = []\n",
    "    for root, directories, files in os.walk(folder_path):\n",
    "        for filename in files:\n",
    "            filepath = os.path.join(root, filename)\n",
    "            if filename.endswith('.pdf'):\n",
    "                pdf_paths.append(filepath)\n",
    "            else:\n",
    "                other_paths.append(filepath)\n",
    "\n",
    "    return pdf_paths, other_paths\n",
    "\n",
    "\n",
    "datadir_orig = str(relative_root.joinpath('data/raw/UTA publications'))\n",
    "datadir_reco = str(relative_root.joinpath('data/raw/publications_manual_export/UTA publications'))\n",
    "\n",
    "pdf_paths_orig, other_paths_orig = get_file_paths(datadir_orig)\n",
    "pdf_paths_reco, other_paths_reco = get_file_paths(datadir_reco)\n",
    "\n",
    "assert len(pdf_paths_orig) == len(pdf_paths_reco)\n"
   ]
  }
 ],
 "metadata": {
  "kernelspec": {
   "display_name": ".venv",
   "language": "python",
   "name": "python3"
  },
  "language_info": {
   "codemirror_mode": {
    "name": "ipython",
    "version": 3
   },
   "file_extension": ".py",
   "mimetype": "text/x-python",
   "name": "python",
   "nbconvert_exporter": "python",
   "pygments_lexer": "ipython3",
   "version": "3.11.6"
  }
 },
 "nbformat": 4,
 "nbformat_minor": 2
}
