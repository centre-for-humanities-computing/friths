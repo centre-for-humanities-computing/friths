{
 "cells": [
  {
   "cell_type": "code",
   "execution_count": 1,
   "metadata": {},
   "outputs": [],
   "source": [
    "import pandas as pd"
   ]
  },
  {
   "cell_type": "code",
   "execution_count": 7,
   "metadata": {},
   "outputs": [],
   "source": [
    "meta = pd.read_csv(\"../data/processed/meta_publications_quality.csv\")\n",
    "meta_unq = meta.drop_duplicates(subset='pub_id')\n",
    "meta_unq = meta_unq.drop(columns=[\"Unnamed: 0\", \"date\", \"reconstructed_date\"])\n",
    "\n",
    "meta_unq = meta_unq[['pub_id', 'path', 'doi', 'source', 'year']]"
   ]
  },
  {
   "cell_type": "code",
   "execution_count": 8,
   "metadata": {},
   "outputs": [
    {
     "name": "stdout",
     "output_type": "stream",
     "text": [
      "<class 'pandas.core.frame.DataFrame'>\n",
      "Index: 272 entries, 0 to 542\n",
      "Data columns (total 5 columns):\n",
      " #   Column  Non-Null Count  Dtype  \n",
      "---  ------  --------------  -----  \n",
      " 0   pub_id  272 non-null    object \n",
      " 1   path    272 non-null    object \n",
      " 2   doi     140 non-null    object \n",
      " 3   source  272 non-null    object \n",
      " 4   year    271 non-null    float64\n",
      "dtypes: float64(1), object(4)\n",
      "memory usage: 12.8+ KB\n"
     ]
    }
   ],
   "source": [
    "meta_unq.info()"
   ]
  },
  {
   "cell_type": "code",
   "execution_count": 9,
   "metadata": {},
   "outputs": [],
   "source": [
    "meta_unq.to_csv(\"../data/processed/meta_publications_months.csv\", index=False)"
   ]
  },
  {
   "cell_type": "code",
   "execution_count": null,
   "metadata": {},
   "outputs": [],
   "source": []
  }
 ],
 "metadata": {
  "kernelspec": {
   "display_name": ".venv",
   "language": "python",
   "name": "python3"
  },
  "language_info": {
   "codemirror_mode": {
    "name": "ipython",
    "version": 3
   },
   "file_extension": ".py",
   "mimetype": "text/x-python",
   "name": "python",
   "nbconvert_exporter": "python",
   "pygments_lexer": "ipython3",
   "version": "3.11.6"
  }
 },
 "nbformat": 4,
 "nbformat_minor": 2
}
