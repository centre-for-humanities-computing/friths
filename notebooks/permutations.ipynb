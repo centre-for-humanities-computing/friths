{
 "cells": [
  {
   "cell_type": "code",
   "execution_count": 2,
   "metadata": {},
   "outputs": [],
   "source": [
    "import os\n",
    "import pandas as pd\n",
    "import numpy as np\n",
    "from tqdm import tqdm\n",
    "from infodynamics import WindowedRollingDistance\n",
    "from infodynamics.util import calc_vector_histogram\n",
    "\n",
    "from src.dataset.util import read_jsonl, write_jsonl\n",
    "from src.model.document_order import generate_permutations_by_label\n",
    "\n",
    "\n",
    "DATA_PROCESSED = '../data/processed/'\n",
    "DATA_INTERIM = '../data/interim/'"
   ]
  },
  {
   "cell_type": "code",
   "execution_count": 3,
   "metadata": {},
   "outputs": [],
   "source": [
    "### load data\n",
    "ds = read_jsonl(os.path.join(DATA_PROCESSED, 'publications_merged_concat.ndjson'))\n",
    "ds = pd.DataFrame(ds)\n",
    "ds[['id', 'section']] = ds['id'].str.split('_', expand=True) \n",
    "\n",
    "### meta\n",
    "meta = pd.read_csv(os.path.join(DATA_INTERIM, 'meta_publications_merged.csv'))\n",
    "meta['year'] = [funk.year for funk in pd.to_datetime(meta['reconstructed_date'], format='mixed')]\n",
    "\n",
    "### merge\n",
    "df = ds.merge(meta[['id', 'year', 'source']], on='id', how='left')\n",
    "df = df.sort_values('year')"
   ]
  },
  {
   "cell_type": "code",
   "execution_count": 16,
   "metadata": {},
   "outputs": [],
   "source": [
    "subset = df.query('warning == \"ok :)\"').query('section == \"b\"')\n",
    "X = subset['embeddings'].tolist()\n",
    "X = np.array(X)"
   ]
  },
  {
   "cell_type": "code",
   "execution_count": 4,
   "metadata": {},
   "outputs": [
    {
     "name": "stderr",
     "output_type": "stream",
     "text": [
      "/Users/au582299/Repositories/friths/.venv/lib/python3.11/site-packages/infodynamics/metrics.py:19: RuntimeWarning: invalid value encountered in log2\n",
      "  result = np.where(mask, p * np.log2(p / q), 0)\n"
     ]
    }
   ],
   "source": [
    "wrd = WindowedRollingDistance(window_size=5, measure='jensenshannon')\n",
    "sig = wrd.fit_transform(X)\n",
    "\n",
    "subset['N_hat'] = sig['N_hat']"
   ]
  },
  {
   "cell_type": "code",
   "execution_count": 10,
   "metadata": {},
   "outputs": [],
   "source": [
    "perm = generate_permutations_by_label(\n",
    "    labels=subset['year'].to_list(),\n",
    "    datapoints=subset['embeddings'].to_list(),\n",
    ")\n"
   ]
  },
  {
   "cell_type": "code",
   "execution_count": 6,
   "metadata": {},
   "outputs": [
    {
     "data": {
      "text/plain": [
       "dict_keys([1969, 1970, 1971, 1972, 1973, 1974, 1975, 1977, 1978, 1979, 1980, 1981, 1982, 1983, 1984, 1985, 1986, 1987, 1988, 1991, 1992, 1993, 1994, 1995, 1996, 1997, 1998, 1999, 2000, 2001, 2002, 2003, 2004, 2005, 2006, 2007, 2008, 2009, 2010, 2011, 2012, 2013, 2014, 2018, 2019, 2020])"
      ]
     },
     "execution_count": 6,
     "metadata": {},
     "output_type": "execute_result"
    }
   ],
   "source": [
    "# list(perm.keys())\n",
    "perm.keys()"
   ]
  },
  {
   "cell_type": "code",
   "execution_count": 7,
   "metadata": {},
   "outputs": [
    {
     "data": {
      "text/plain": [
       "[6, 3, 1536]"
      ]
     },
     "execution_count": 7,
     "metadata": {},
     "output_type": "execute_result"
    }
   ],
   "source": [
    "a = list(perm[1970])\n",
    "\n",
    "[\n",
    "    # n permutations\n",
    "    len(a),\n",
    "    # n documents\n",
    "    len(a[0]),\n",
    "    # n dimensions\n",
    "    len(a[0][0])\n",
    "]"
   ]
  },
  {
   "cell_type": "code",
   "execution_count": 11,
   "metadata": {},
   "outputs": [],
   "source": [
    "# years_possible = list(perm.keys())\n",
    "# all_signal_permutations = []\n",
    "\n",
    "# for year_of_focus in tqdm(years_possible):\n",
    "\n",
    "#     for permutation in list(perm[year_of_focus]):\n",
    "#         single_signal = []\n",
    "\n",
    "#         for year in years_possible:\n",
    "#             if year_of_focus == year:\n",
    "#                 single_dp = permutation\n",
    "#                 single_signal.append(single_dp)\n",
    "#             else:\n",
    "#                 single_dp = list(perm[year])[0]\n",
    "#                 single_signal.append(single_dp)\n",
    "        \n",
    "#             all_signal_permutations.append(single_signal)"
   ]
  },
  {
   "cell_type": "code",
   "execution_count": 8,
   "metadata": {},
   "outputs": [],
   "source": [
    "year_of_focus = 1969\n",
    "idx = subset.query('year == @year_of_focus').index"
   ]
  },
  {
   "cell_type": "code",
   "execution_count": 17,
   "metadata": {},
   "outputs": [],
   "source": [
    "subset_2 = subset.copy(deep=True)\n",
    "subset_2.loc[idx, 'embeddings'] = [['a'], ['b']]\n",
    "\n",
    "subset_2['embeddings'].tolist()"
   ]
  },
  {
   "cell_type": "code",
   "execution_count": null,
   "metadata": {},
   "outputs": [],
   "source": []
  }
 ],
 "metadata": {
  "kernelspec": {
   "display_name": ".venv",
   "language": "python",
   "name": "python3"
  },
  "language_info": {
   "codemirror_mode": {
    "name": "ipython",
    "version": 3
   },
   "file_extension": ".py",
   "mimetype": "text/x-python",
   "name": "python",
   "nbconvert_exporter": "python",
   "pygments_lexer": "ipython3",
   "version": "3.11.6"
  }
 },
 "nbformat": 4,
 "nbformat_minor": 2
}
