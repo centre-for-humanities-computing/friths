{
 "cells": [
  {
   "cell_type": "code",
   "execution_count": null,
   "metadata": {},
   "outputs": [],
   "source": [
    "import os\n",
    "\n",
    "import numpy as np\n",
    "import pandas as pd\n",
    "import seaborn as sns\n",
    "import matplotlib.pyplot as plt\n",
    "from scipy.ndimage import gaussian_filter1d\n",
    "from tslearn.metrics import dtw\n",
    "from umap import UMAP\n",
    "from tqdm import tqdm\n",
    "import ruptures\n",
    "\n",
    "from infodynamics import WindowedRollingDistance\n",
    "from infodynamics.util import calc_vector_histogram\n",
    "\n",
    "from src.dataset.util import read_jsonl, write_jsonl"
   ]
  },
  {
   "cell_type": "code",
   "execution_count": null,
   "metadata": {},
   "outputs": [],
   "source": [
    "meta_uta = pd.read_csv(\"data/raw/ScopusExport_56046313500.csv\")\n",
    "meta_chris = pd.read_csv(\"data/raw/ScopusExport_36051252900.csv\")\n",
    "\n",
    "emb_uta = read_jsonl(\"data/processed/uta_abstracts.ndjson\")\n",
    "emb_chris = read_jsonl(\"data/processed/chris_abstracts.ndjson\")"
   ]
  }
 ],
 "metadata": {
  "language_info": {
   "name": "python"
  }
 },
 "nbformat": 4,
 "nbformat_minor": 2
}
