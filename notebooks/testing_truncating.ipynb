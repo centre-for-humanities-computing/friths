{
 "cells": [
  {
   "cell_type": "code",
   "execution_count": 13,
   "metadata": {},
   "outputs": [],
   "source": [
    "import tiktoken\n",
    "\n",
    "from src.features.openai_emb import get_embeddings_and_warnings, log_in_to_api\n",
    "from src.dataset.util import read_jsonl, write_jsonl"
   ]
  },
  {
   "cell_type": "code",
   "execution_count": 11,
   "metadata": {},
   "outputs": [],
   "source": [
    "client = log_in_to_api('/work/friths/secrets.json')\n",
    "model = \"text-embedding-ada-002\"\n",
    "\n",
    "path = \"/work/friths/data/processed/publications_merged_concat.ndjson\"\n",
    "\n",
    "texts = read_jsonl(path)\n",
    "model = \"text-embedding-ada-002\"\n"
   ]
  },
  {
   "cell_type": "code",
   "execution_count": 14,
   "metadata": {},
   "outputs": [],
   "source": [
    "encoding = tiktoken.encoding_for_model(model)"
   ]
  },
  {
   "cell_type": "code",
   "execution_count": 20,
   "metadata": {},
   "outputs": [],
   "source": [
    "\n",
    "def get_trunc_texts(text):\n",
    "    tokens = encoding.encode(text)\n",
    "    if len(tokens) > 8190:\n",
    "        trunc = tokens[:8191]\n",
    "        return encoding.decode(trunc)\n",
    "    else:\n",
    "        return encoding.decode(tokens)\n"
   ]
  },
  {
   "cell_type": "code",
   "execution_count": 24,
   "metadata": {},
   "outputs": [],
   "source": [
    "for text in texts[:10]:\n",
    "    tr_text = get_trunc_texts(text['text'])\n",
    "    embeds, war = get_embeddings_and_warnings(client, tr_text, model=model)\n",
    "\n",
    "    text[\"embeddings\"] = embeds\n",
    "    text[\"warning\"] = war\n",
    "    "
   ]
  },
  {
   "cell_type": "code",
   "execution_count": 29,
   "metadata": {},
   "outputs": [
    {
     "data": {
      "text/plain": [
       "'ok :)'"
      ]
     },
     "execution_count": 29,
     "metadata": {},
     "output_type": "execute_result"
    }
   ],
   "source": [
    "texts[0]['warning']"
   ]
  },
  {
   "cell_type": "code",
   "execution_count": null,
   "metadata": {},
   "outputs": [],
   "source": []
  }
 ],
 "metadata": {
  "kernelspec": {
   "display_name": "Python 3",
   "language": "python",
   "name": "python3"
  },
  "language_info": {
   "codemirror_mode": {
    "name": "ipython",
    "version": 3
   },
   "file_extension": ".py",
   "mimetype": "text/x-python",
   "name": "python",
   "nbconvert_exporter": "python",
   "pygments_lexer": "ipython3",
   "version": "3.10.12"
  }
 },
 "nbformat": 4,
 "nbformat_minor": 2
}
