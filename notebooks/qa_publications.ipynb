{
 "cells": [
  {
   "cell_type": "code",
   "execution_count": 1,
   "metadata": {},
   "outputs": [],
   "source": [
    "import os\n",
    "import json\n",
    "import scipdf\n",
    "from pypdf import PdfReader"
   ]
  },
  {
   "cell_type": "markdown",
   "metadata": {},
   "source": [
    "### data etc"
   ]
  },
  {
   "cell_type": "code",
   "execution_count": 2,
   "metadata": {},
   "outputs": [],
   "source": [
    "pub = []\n",
    "with open('../data/interim/publications.ndjson') as fin:\n",
    "    for line in fin:\n",
    "        json_obj = json.loads(line)\n",
    "        pub.append(json_obj)\n",
    "\n",
    "parsed_paths = [art['path'] for art in pub]"
   ]
  },
  {
   "cell_type": "code",
   "execution_count": 3,
   "metadata": {},
   "outputs": [],
   "source": [
    "with open('../data/interim/failed_pdf_paths.txt') as fin:\n",
    "    failed_paths = [line.strip() for line in fin]\n",
    "\n",
    "with open('../data/interim/non_pdf_paths.txt') as fin:\n",
    "    non_pdf_paths = [line.strip() for line in fin]"
   ]
  },
  {
   "cell_type": "code",
   "execution_count": 4,
   "metadata": {},
   "outputs": [
    {
     "data": {
      "text/plain": [
       "[154, 23, 120]"
      ]
     },
     "execution_count": 4,
     "metadata": {},
     "output_type": "execute_result"
    }
   ],
   "source": [
    "[\n",
    "    len(parsed_paths),\n",
    "    len(non_pdf_paths),\n",
    "    len(failed_paths),\n",
    "]"
   ]
  },
  {
   "cell_type": "markdown",
   "metadata": {},
   "source": [
    "### what's going on with the failed ones?"
   ]
  },
  {
   "cell_type": "code",
   "execution_count": 5,
   "metadata": {},
   "outputs": [],
   "source": [
    "sample_fail = os.path.join('..', failed_paths[0])\n",
    "\n",
    "sci = scipdf.parse_pdf_to_dict(sample_fail)\n",
    "rea = PdfReader(sample_fail)\n"
   ]
  },
  {
   "cell_type": "code",
   "execution_count": 6,
   "metadata": {},
   "outputs": [
    {
     "data": {
      "text/plain": [
       "['../data/raw/UF papers 1969-2004 copy/1987/Frith, A developmental model for autism.pdf',\n",
       " None,\n",
       " '']"
      ]
     },
     "execution_count": 6,
     "metadata": {},
     "output_type": "execute_result"
    }
   ],
   "source": [
    "[\n",
    "    sample_fail,\n",
    "    sci,\n",
    "    rea.pages[0].extract_text()\n",
    "]"
   ]
  },
  {
   "cell_type": "markdown",
   "metadata": {},
   "source": [
    "They are just empty.\n",
    "- But OCR has been done (can be seen when browsing the pdf)\n",
    "- `Acrobat 4.0 Scan Plug-in for Windows` probably used for this\n",
    "- maybe content got hidden somehow?"
   ]
  },
  {
   "cell_type": "markdown",
   "metadata": {},
   "source": [
    "### abstracts"
   ]
  },
  {
   "cell_type": "code",
   "execution_count": 7,
   "metadata": {},
   "outputs": [
    {
     "data": {
      "text/plain": [
       "{'title': 'Autism spectrum disorder and psychopathy : shared cognitive underpinnings or double hit ?',\n",
       " 'authors': 'J O H N R O G E R S; E S S I V I D I N G; T A F R I T H 2 A N D F R A N C E S C A H A P P É; Essi Viding; H Asperger; S Baron-Cohen; S Baron-Cohen; H Tager-Flusberg; D J Cohen; S Berthoz; J L Armony; R J Blair; R J Dolan; S K Berument; M Rutter; C Lord; A Pickles; A Bailey; D Bishop; C F Norbury; R Blair; R J Blair; R J Blair; R J Blair; R J Blair; L Cipolotti; R J Blair; E Colledge; D G Mitchell; R J Blair; E Colledge; L Murray; D G Mitchell; S A Cooper; W N Mohamed; R A Collacott; M R Dadds; J Fraser; A Frost; D J Hawes; G Dawson; K Toth; R Abbott; J Osterling; J Munson; A Estes; J Liaw; M Dewey; P J Frick; R D Hare; U Frith; U Frith; R Goodman; D A Grant; E A Berg; I Hall; J Bernal; R D Hare; S D Hart; R D Hare; D M Stoff; J Breiling; J D Maser; H C Heims; H D Critchley; R Dolan; C J Mathias; L Cipolotti; E L Hill; K Hippler; C Klicpera; C Hughes; J Russell; T W Robbins; Y Kohn; T Fahum; G Ratzoni; A Apter; M Luciana; D Mawson; A Grounds; D Tantam; T E Moffitt; B B Lahey; T E Moffitt; A Caspi; S Ozonoff; I Cook; H Coon; G Dawson; R M Joseph; A Klin; W M Mcmahon; N Minshew; J A Munson; B F Pennington; S J Rogers; M A Spence; H Tager-Flusberg; F R Volkmar; D Wrathall; K Rubia; E Taylor; A Smith; H Oksanen; S Overmeyer; S Newman; M Rutter; A Bailey; C Lord; P Scragg; A Shah; M Sigman; C Dissanayake; R Corona; M Espinosa; M D Sigman; C Kasari; J Kwon; N Yirmiya; J Silva; G Leong; M Ferrari; L Siponmaa; M Kristiansson; C Jonson; A Nyden; C Gillberg; J Smetana; D Tantam',\n",
       " 'pub_date': '',\n",
       " 'abstract': \"Background. We measured psychopathic traits in boys with autism spectrum disorder (ASD) selected for difficult and aggressive behaviour. We asked (i) whether psychopathic tendencies can be measured in ASD independent of the severity of autistic behaviour ; (ii) whether individuals with ASD with callous-unemotional (CU) traits differ in their cognitive profile from those without such traits ; and (iii) how the cognitive data from this study compare with previous data of youngsters with psychopathic tendencies. Method. Twenty-eight ASD boys were rated on psychopathic tendencies, autistic traits and a range of cognitive measures assessing mentalizing ability, executive functions, emotion recognition and ability to make moral-conventional distinction. Results. Our results indicate that psychopathic tendencies are not related to severity of ASD. In addition, such tendencies do not seem to be related to core autistic cognitive deficits, specifically in 'mind-reading ' or executive function. Boys with co-occurring ASD and CU tendencies share some behaviours and aspects of cognitive profile with boys who have psychopathic tendencies alone. Conclusions. Callous/psychopathic acts in a small number of individuals with ASD probably reflect a 'double hit ' involving an additional impairment of empathic response to distress cues, which is not part and parcel of ASD itself.\",\n",
       " 'sections': [{'heading': 'INTRODUCTION',\n",
       "   'text': \"Hans Asperger's first account of 'Autistic Psychopathy '# placed emphasis on unpleasant behaviour by the children and adults he described. This aspect of what has become known as Asperger syndrome (Asperger disorder in DSM-IV ; APA, 1994) has been little studied but is of significant clinical interest and concern. In particular, two questions arise : do individuals with Asperger syndrome, or autism spectrum disorder (ASD) more generally, show callous-unemotional (CU) traits akin to those with psychopathic syndrome ? And do callous aggressive acts arise from cognitive deficits that are central to ASD, or result from a 'double hit '; effectively Asperger syndrome plus psychopathic disorder ?\\nAsperger referred to ' autistic acts of malice', especially within the family, that 'typically appear to be calculated. With uncanny certainty, the children manage to do whatever is the most unpleasant or hurtful in a particular situation … There can sometimes be distinctly sadistic acts. Delight in malice, which is rarely absent, provides almost the only occasion when the lost glance of these children appears to light up ' (Asperger, 1944 ;Frith, 1991, p. 77). Frith, in her translation and commentary on Asperger's paper (from which the title quote is taken), makes the case that, while the behaviour may be unpleasant, the intention of these children is not malicious (see also Dewey, 1991). For example, Fritz V, who appeared to enjoy making his teacher angry, may have had little insight into her inner states, and have been interested only in the physical display. This little boy is reported to have been thrown out of kindergarten after only a few days because 'he quickly became aggressive and lashed out with anything he could get hold of (once with a hammer), regardless of the danger to others … He did not care if people were sad or upset about him. He appeared almost to enjoy people being angry with him ' (Asperger, 1944 ;Frith, 1991, p. 40). While such behaviour may sound reminiscent of psychopathic individuals, Asperger himself seemed to have recognized that malicious intent may have been lacking, and antisocial behaviour may have resulted instead from a lack of social understanding : ' However, since their emotionality is poorly developed, they cannot sense how much they hurt others, either physically, as in the case of younger siblings, or mentally, as in the case of parents ' (Asperger, 1944 ;Frith, 1991, p. 77).\\nVery few research studies have addressed antisocial and aggressive behaviour in ASD. A number of single case reports or clinical descriptions have been published (Mawson et al. 1985 ;Cooper et al. 1993;Hall & Bernal, 1995 ;Kohn et al. 1998). Baron-Cohen (1988), for example, described a single case of a 21-year-old with Asperger syndrome who often violently beat his 71-year-old 'girl-friend '. Scragg & Shah (1994) found a higher than expected prevalence of ASDs (1 . 5-2 . 3%) among the male inmates of Broadmoor secure mental hospital. Siponmaa et al. (2001) found 3 % of a sample of young adults who had committed serious (mostly violent) offences met criteria for Asperger syndrome when evaluated in depth, with an additional 12% falling somewhere on the autism spectrum; that is, reaching criteria for PDD-NOS (pervasive developmental disorder -not otherwise specified). However, Hippler & Klicpera (2003), in their study of 177 cases originally diagnosed by Asperger, found no raised incidence of criminal offences compared with general population rates.\\nA possible construal of the above, limited, findings would be that the social-communicative deficits that define ASD somehow predispose towards violent acts (Mawson et al. 1985;Tantam, 1988). While recognizing that most people with ASD do not act aggressively, some authors and clinicians have suggested that the inability to recognize others' mental states (or 'mentalize '), which appears to be a key aspect of ASD (e.g. Baron-Cohen et al. 2000), may be a risk factor for callous and serious crimes (Silva et al. 2004). Another characteristic of ASD, 'executive dysfunction' (for review see Hill, 2004), might also be considered a risk factor for aggressive behaviour through, for example, impaired control of impulsive behaviour or poor response selection.\\nIn the field of research into CU personality/ psychopathy, there has been significant progress in defining a candidate cognitive basis. The defining characteristic of the disorder is a distinct lack of empathy and remorse, despite perfectly good understanding of others' thoughts and feelings (Blair, 2005a). This lack of empathy alongside good general mentalizing is proposed to enable psychopaths to manipulate other people to their own ends, commit premeditated crime, and remain unaffected by their appalling deeds -leading this subgroup to account for a disproportionate number of crimes (Hart & Hare, 1997 ;. At the cognitive level, psychopaths are poor at processing distress cues (fear and sadness) in other people . This impairment appears to be present across the course of development (manifest in children, youth and adults with CU personality/ psychopathy) and has been proposed to predispose to difficulty in developing empathy and acquiring morals .\\nSuch a description of psychopathy at both cognitive and behavioural levels is very different from ASD. Individuals with ASD often fail to orient to others (Dawson et al. 2004), including those in distress (Sigman et al. 1992), and have a general difficulty understanding intentions and attributing thoughts to others (Frith, 2003). However, to the extent that they recognize what the other person is feeling, they do appear to respond emotionally (Blair, 1999;Sigman et al. 2003). In addition, individuals with ASD make a distinction between moral and conventional transgressions, a distinction that involves computations of victim suffering . Individuals with psychopathy, by contrast, can perform mentalizing tasks but fail to respond normally to others' distress and fail to make the distinction between the im/permissibility of moral versus conventional transgressions .\\nThe present paper attempts to answer some of the outstanding questions about the possible overlap between ASD and psychopathic syndrome. First, is psychopathic behaviour merely an expression of the core sociocognitive deficits in ASD ? Or is it, by contrast, a sometimes co-occurring 'double-hit ' deficit that can be measured independent of the severity of autistic behaviour ? Second, do individuals with ASD and CU traits differ in their cognitive profile from those with ASD who do not show CU traits ? Do those with extreme CU traits and ASD show a similar cognitive profile to that reported previously for individuals with psychopathic traits (without ASD) ?\\nTo explore cognitive processes that might underlie CU traits in ASD we used a battery of social and non-social tasks. Research on the psychopathic syndrome has highlighted deficits in the recognition of and response to distress cues (fear and sadness), and consequent abnormalities in distinguishing between moral and merely conventional transgressions (for a review, see Blair, 2005 b). We therefore included tests of facial emotion recognition (with specific interest in fear and sadness processing in children with and without CU traits) and of the moral-conventional distinction (with specific interest in the ability of children with and without CU traits to make this distinction). In addition, we included executive function (EF) tests of response inhibition and response reversal/setshifting. Children with ASD often perform poorly on EF tests, and poor EF performance, particularly response reversal, has also been associated with antisocial behaviour (Moffitt, 2003 ;Blair, 2005 b). Finally, to tap processes of mental state attribution we also gave an advanced mind-reading task to the participants. This was given to assess explicitly the suggestion that antisocial behaviour in ASD may stem from mentalizing difficulties (Silva et al. 2004).\\nWe hypothesized that CU traits would be behaviourally distinct from ASD, unrelated to the core cognitive deficits of ASD (in mentalizing and executive functions), and possibly resemble, in a minority of participants, those behaviours and cognitive profiles seen in (non-ASD) individuals with psychopathic tendencies.\",\n",
       "   'n_publication_ref': 31,\n",
       "   'n_figure_ref': 0},\n",
       "  {'heading': 'METHOD Participants',\n",
       "   'text': 'The sample was recruited from a residential school for children on the autism spectrum, especially Asperger syndrome, with special provision for those who had been excluded from other schools for violent or otherwise difficult, externalizing behaviour. Thus the sample was enriched for aggressive behaviour, and should not be considered as representative of the wider group with ASD or, more specifically, Asperger syndrome.\\nThe participants comprised 28 boys with a confirmed diagnosis according to current criteria (e.g. DSM-IV), using recognized diagnostic methods (e.g. the Autism Diagnostic Interview -Revised, ADI-R), as recorded from medical records or parental report ; three were high-functioning ASD and 25 Asperger disorder.\\nThe Social Communication Questionnaire (SCQ ; Rutter et al. 2003), previously the Autism Screening Questionnaire (Berument et al. 1999), was sent to the parents of all participants as a measure of autistic symptomatology and to confirm diagnosis, and was completed for 23 boys. A cut-off point of 15 is normally used on this measure ; no participant scored below this level. The 40 items of the SCQ have been modified to be clear without additional explanation, are rated by parents, and show good reliability and validity (Rutter et al. 2003). Good agreement with the full ADI-R has been demonstrated in autism (Berument et al. 1999) and specifically in high-functioning ASD (Bishop & Norbury, 2002).',\n",
       "   'n_publication_ref': 5,\n",
       "   'n_figure_ref': 0},\n",
       "  {'heading': 'Assessment of psychopathic tendencies',\n",
       "   'text': \"The Antisocial Process Screening Device (APSD ; Frick & Hare, 2001) is a 20-item questionnaire that charts psychopathic tendencies in children. All items are rated on a three-point scale. The important difference between APSD and more traditional instruments assessing conduct problem behaviours is that APSD places considerable weight not only on assessing the overt behavioural aspects of conduct problems but also on documenting the CU, psychopathic personality traits. These traits are tapped by items in the ASPD such as ' Does not show feelings or emotions', 'Is concerned about the feelings of others ' and 'Feels bad or guilty when he has done something wrong ', which outline the affective impairment defining psychopathic personality, not seen in all individuals with conduct problems. The APSD has been shown to have good reliability and validity (Frick & Hare, 2001). The symptoms measured by the APSD correlate significantly with DSM-IV externalizing disorder symptoms. Furthermore, this instrument delineates a group of individuals with a distinct neurocognitive profile and a particularly severe pattern of antisocial behaviour (Frick & Hare, 2001;Blair, 2005a). The APSD manual provides tables of norms to indicate the extent of deviance on all scales and questionnaire total score. Teacher ratings were obtained. To see whether the APSD total and scale scores correlated with conduct problems in our ASD sample, we used the Strengths and Difficulties Questionnaire (SDQ ; Goodman, 1997) conduct problems scale. This contains five items rated by teachers.\",\n",
       "   'n_publication_ref': 5,\n",
       "   'n_figure_ref': 0},\n",
       "  {'heading': 'Assessment of general ability',\n",
       "   'text': \"The Wechsler Intelligence Scale for Children -Revised (WISC-R) or the Wechsler Adult Intelligence Scale -Third Edition (WAIS-III) was used to assess the participants' ability levels as appropriate. In cases where there was record of the WISC-R having been administered within the past 5 years, information regarding IQ scores was taken from the medical notes as available. Four boys refused to take tests of ability but were judged by their teachers to be of average ability and capable of completing the experimental tasks. Examination of their experimental performance as compared with other participants confirmed this impression and supported their inclusion. In addition, the participants without IQ assessment fell into both subgroups as divided by level of CU traits (data available from F.H.).\",\n",
       "   'n_publication_ref': 0,\n",
       "   'n_figure_ref': 0},\n",
       "  {'heading': 'Assessment of mentalizing ability',\n",
       "   'text': \"Because of the high general ability of most of our participants, standard tests of first-and second-order false belief were likely to yield ceiling effects. For this reason, a more complex social task was selected. The 'Social Situations task ', developed after a task by Margaret Dewey (1991), assesses mental state attribution and social response prediction. It has used to tap social cognition in previous studies of neuropsychological patients (Blair & Cipolotti, 2000 ;Heims et al. 2004) and children with behavioural problems (E. Viding & R. J. Blair, unpublished observations). A variant of this task has also been shown to recruit brain areas associated with mentalizing in healthy adults (Berthoz et al. 2002).\\nThe Social Situations task assesses the ability to process the appropriateness of behaviour in different social contexts. Ten short stories described 22 social situations incorporating behaviour that was either normative or peculiar (e.g. likely to shock/upset others). The stories were presented sentence by sentence on a computer, while the experimenter read the stories to the participants. Four possible responses to the key behaviours in each story appeared at the bottom of the screen and the participant was asked which best described the behaviour in that situation : (A) normal, (B) rather strange, (C) very strange, or (D) shocking. For each violation, the participant's in/appropriateness score was recorded (A=0, B=1, C=2, D=3). In total, there were 12 normative situations and 10 violations. Three scores were calculated ; the number of normative situations correctly identified (max. 12), the number of violations correctly identified (max. 10) and the total in/appropriateness rating given to violations (max. 30).\",\n",
       "   'n_publication_ref': 5,\n",
       "   'n_figure_ref': 0},\n",
       "  {'heading': 'Assessment of executive functions',\n",
       "   'text': \"The Go/No-Go task, taken from the Maudsley Attention and Response Suppression Task Battery (the MARS), was used to measure response inhibition. In this task, the participants were required to respond as fast as possible to the airplanes appearing on the screen but not to respond to the bombs. Over the entire task 30 % of the trials were bomb (inhibition) trials, with the remaining 70 % being plane trials (requiring a response). The Go/No-Go was administered on the computer ; the participants' responses were made using an additional serial mouse to provide greater timing accuracy over the touch screen or keyboard. The interstimulus interval (ISI) was 1600 ms ; stimulus duration was 200 ms, followed by a blank screen of 1400 ms. The task consisted of 180 trials and the total test duration was 312 s.\\nThe primary outcome measures recorded for this task were the percentage of trials in which the participant successfully withheld a response to a bomb stimulus (probability of inhibition %) and the percentage of airplane trials in which they failed to respond (% error of omission). This task has been validated as a measure of response inhibition in previous studies of attention deficit hyperactivity disorder (ADHD) (Rubia et al. 2001).\\nThe Intra-Dimensional/Extra-Dimensional (ID/ED) Shift task was used as a measure of flexibility in response strategies, in the face of changing reward and punishment contingencies (response reversal -ID shift), and flexibility in mapping responses to a new stimulus dimension (ED shift). This computerized multi-stage set-shifting task is part of the Cambridge Neuropsychological Test Automated Battery (CAN-TAB). This task is akin to the widely used Wisconsin Card Sorting Test (Grant & Berg, 1948), but with novel shapes introduced at each shifting stage. This 'total-change ' paradigm enables transfer of learning within a dimension (intra-dimensional shifting) to be distinguished from transfer to a new dimension (extradimensional shifting). Full procedural details can be found in Hughes et al. (1994).\\nThe primary outcome measures recorded for this task were the mean errors per stage over all reversal stages completed (stages 2, 5 and 7) as an indicator of inhibitory failure to previously rewarded stimuli, and the number of errors made attempting the extra-dimensional shift as a marker of attentional set-shifting. This task has been used in a number of studies with clinical populations, including ASD (Ozonoff et al. 2004), to measure set shifting and flexibility.\",\n",
       "   'n_publication_ref': 4,\n",
       "   'n_figure_ref': 0},\n",
       "  {'heading': 'Cognitive measures related to psychopathic tendencies',\n",
       "   'text': \"The Moral-Conventional distinction task presents eight situations described in short vignettes (e.g. Smetana, 1985 ;Blair, 1996). Four situations involved a moral rule transgression (a child hitting another child, pushing another child to the floor, smashing a school piano, or breaking the school sings). The other four situations involved a conventional rule transgression (a boy wearing a skirt, two children talking in class, a child leaving class without permission, or a child turning his back on a teacher who is talking to him). All the situations were set in a classroom or playground.\\nA sentence describing the situation appeared on the computer screen and was read to the participant by the experimenter. Three questions were then asked by the experimenter while the situation remained on the screen, accompanied by the possible responses to the questions:\\nWas it OK for [the story character] to do [the transgression] ?\\nOn a scale of 1 to 10 how bad was it, where 1 is just a little bit bad, and 10 is very bad ?\\nNow in assembly that morning the teacher had said 'Anyone can do [transgression] if they want to today, anyone can do [transgression]' After the teacher had said that, would it be OK for [character] to do [transgression] ?\\nThe primary outcome measures of this task reflected whether the participant believed a transgression could be rendered acceptable if the teacher said it was okay, so-called 'rule contingency '. Evidence of the moral-conventional distinction is seen in most participants' belief that only conventional rules are contingent on teachers' (or other authority figures') dictates. The rule contingency score for moral and for conventional transgressions was calculated as the number of transgressions that remained unacceptable to the participant after the rule was withdrawn by the teacher (maximum 4 for both moral and conventional conditions). This task has proved sensitive to social cognitive deficits in participant groups with psychopathic traits   The Emotion Multimorph task is a facial emotion recognition test (Blair et al. 2001b). The participants were asked to judge as quickly as possible, without guessing, which emotion a neutral face was morphing into. The six emotions used were : angry, disgusted, happy, fearful, sadness and surprised. At the beginning of the task the participants were asked to define these terms in their own words to ensure they had an understanding of the names of the emotions. If a participant was unable to come up with a definition, an example of a situation in which the emotion might be felt was given, and the participant was asked to provide their own alternate example. The six emotion words were printed on a sheet of paper and placed in front of the participant at the beginning of the task and remained in view throughout.\\nFull details of this task are available in Blair et al. (2001 b). The present administration of the task differed only in that the frame rate of one every 3 seconds was controlled by the computer rather than the experimenter. Participants could alter their responses if they wanted as they saw the morph progress; their final response was used in the analysis. Participants were given a practice trial of each emotion to familiarize them with the task procedure, then in the main task there were three examples of each emotion, giving 18 trials in total. These trials were administered in two blocks, one for each of the testing sessions. The order of presentation of these blocks was counterbalanced among participants.\\nThe primary outcome measures recorded for this task were the number of facial emotions correctly recognized, and the frame latency of correctly named emotions. This task has been validated in previous studies with children, both with and without psychopathic traits (Blair et al. 2001 b).\",\n",
       "   'n_publication_ref': 6,\n",
       "   'n_figure_ref': 0},\n",
       "  {'heading': 'Procedure',\n",
       "   'text': \"Tasks were administered in two 45-minute sessions in a quiet room at school; these sessions were completed within 1 week of each other. The experimental tasks were administered on an Advantec portable computer with a 12-inch colour touch-sensitive screen. The participant's responses were recorded using the touch screen, keyboard or serial mouse. The viewing distance was approximately 1 metre for all tasks.\",\n",
       "   'n_publication_ref': 0,\n",
       "   'n_figure_ref': 0},\n",
       "  {'heading': 'RESULTS',\n",
       "   'text': \"Can psychopathic tendencies be measured in ASD, independent of the severity of autistic behaviour ? Our first aim was to document whether the psychopathic tendencies measure would capture something over and above autism-related problem behaviour in these children. If antisocial behaviour and, more specifically, CU traits were simply a manifestation of the core social deficits in ASD, these traits might be expected to be pervasive in ASD and to correlate with the severity of ASD symptoms.\\nThe whole ASD sample had a mean APSD total score of 18 . 2 (S.D.=7 . 75), which is considerably below the lowest cut-off of 30 for markedly atypical behaviour, and corresponds to a 'high average ' score on the APSD (note that this sample was selected for antisocial behaviour). More pertinently, the mean CU score in the ASD group was 4 . 77 (S.D.=2 . 31), which is an 'average ' CU score on the APSD. The SCQ score did not correlate significantly with the CU traits score (r=0 . 09, p=0 . 70) or with the APSD total score (r=x0 . 29, p=0 . 18). The APSD did appear to measure antisocial behaviour in this group, however, as demonstrated by the expected correlation with the SDQ Conduct Problems score (r=0 . 73, APSD total score ; r=0 . 66, CU score, both p<0 . 001). This suggests that the APSD tapped the same latent construct in children with ASD as in previous general population samples (Dadds et al. 2005).\\nA median split of the ASD group by CU traits score also confirmed that these traits were unrelated to severity of ASD. Those with a score of 5 or below we designated as 'CU-low ', those with a score above 5 were designated as 'CUhigh '. Participant characteristics for the subgroups are shown in Table 1. Between-subjects analysis of variance (ANOVA) confirmed that the groups did not differ on SCQ, age or IQ -and the only significant difference was on APSD domains (as created by the median split). The mean APSD total score for the 'CU-high ' group was 25 and the mean CU score was 7 . 2. Both scores are mildly atypical but do not reach the cut-off for 'markedly atypical/ highly antisocial ' traits (30 and 10 for APSD total and CU respectively). The SCQ, age and IQ equivalence of the CU-low and CU-high subgroups enabled us to go on to compare the groups on cognitive variables and be confident that differences were not due to these background variables. Do 'CU-high' individuals with ASD differ in their cognitive profile from ' CU-low ' ASD individuals ?\\nThe two groups were compared on our battery of social, executive and psychopathy-related tasks. Subgroup means are shown in Table 2. ANOVAs comparing the CU-high and CU-low children on tasks associated with cognitive dysfunction in ASD showed that both groups performed poorly on the Go/No-Go and ID/ED (ED shift) tasks (as compared with control data from existing studies ; Blair et al. 2001a ;Rubia et al. 2001 ;Luciana, 2003), but were indistinguishable from each other (all p>0 . 25). Both groups also showed somewhat impaired performance on the Social Situations task (as compared with percentage scores from earlier studies ; Blair & Cipolotti, 2000;Heims et al. 2004 ;E. Viding & R. J. Blair, unpublished observations), with no significant group differences. By contrast, ANOVAs comparing the performances of the CU-high and CU-low groups on the cognitive measures related to psychopathic tendencies did suggest group effects. On the Moral-Conventional task there was a significant main effect of group on the rule contingency measure (F=4 . 6, p=0 . 04, two-tailed) with the CU-high group showing greater rule contingency over the whole task. Both the main effect of transgression type (F=3 . 9, p=0 . 06) and the group by transgression type interaction (F=3 . 9, p=0 . 06) were marginally significant in the two-tailed test, and significant on a prior planned one-tailed test (p=0 . 03). Thus the CU-high ASD children were somewhat poorer at making the moral-conventional distinction. Their poor performance was driven by failure to allow for 'rule contingency ' of conventional items, a finding that is in line with previous research with non-ASD children who have psychopathic tendencies (Blair, 2005a). Given the small sample sizes we also calculated the effect size for the group difference in the rating of conventional items (dk=1 . 07), which was large.\\nOn the Emotional Multimorph task, compared with previous data from both control boys and boys with psychopathic tendencies of similar age, both ASD groups performed poorly across all emotion categories ; the range of emotion recognition latencies in Blair et al. (2001 b) was 8 . 97 (happy) to 14 . 66 (fear) and 9 . 68 (happy) to 15 . 54 (sad) for controls and for boys with psychopathic tendencies respectively. ANOVA comparing the CU-high and CU-low groups showed a significant main effect of emotion (F=7 . 5, p=0 . 00) but no main effect of group (F=2 . 0, N.S.) or group by emotion interaction (F=1 . 2, N.S.). However, based on the prediction of impaired recognition of fear and sadness specifically, separate t tests showed a significant group difference (t=2 . 2, p=0 . 04, two-tailed) with a large effect size (dk=0 . 89) on sadness but not on fear (t=0 . 02, N.S.). Thus, in line with the study of Blair et al. (2001 b), there was poorer sadness recognition in the ASD children with high CU traits.\",\n",
       "   'n_publication_ref': 11,\n",
       "   'n_figure_ref': 0},\n",
       "  {'heading': 'DISCUSSION',\n",
       "   'text': \"Our results demonstrated clearly that although psychopathy and ASD can co-occur, they are not part of a single construct. The correlation between severity of CU traits and ASD traits was extremely low. Splitting the ASD group into those with relatively high versus low CU traits also revealed no statistically significant difference in SCQ, age or IQ. In addition, the two groups did not differ on mentalizing or executive function tests, which index core cognitive deficits in ASD and also partly reflect intellectual ability. Thus, in ASD, psychopathic tendencies are not explained by autism severity or ability, nor are they related to core autism deficits in mentalizing or executive functions.\\nWhat, then, might be the basis of CU traits in a subgroup of individuals with ASD ? Comparison of ASD subgroups with high versus low CU traits suggested possible differences on tasks sensitive to empathic response deficits in individuals with psychopathy. Boys with ASD plus CU traits showed poor performance on the moral-conventional distinction task and in recognizing facial expressions of sadness (in line with core psychopathic impairments ; Blair 2005 a, b). Indeed, when we looked at the qualitative data available for the few boys with ASD who showed most elevated CU traits (CU scores 7-10), it was apparent that they also showed antisocial behaviour in everyday life that would not be out of place in the case history of a young person with psychopathy. For example, one boy had been expelled from his previous school after the barbaric slaughter of a chicken and a duck. Another was obsessed with anything violent or bloodthirsty, including a prominent child murder case in the UK (the James Bulger case), claiming to have himself killed a boy called Johnnie, and was said by teachers to lie to escape from trouble, and try to blame and manipulate his schoolmates.\\nWhile this is the first study of its type, we should note certain limitations. First, our sample size was relatively small, althoughenriched for young people with conduct problems. Given our recruitment of ASD boys with high levels of conduct problems, it is interesting that that we found a large number of boys without high CU. Even our high-CU group only had a minority of boys with CU traits in the highly abnormal range. Second, we cannot rule out the possibility that some third factor associated with ASD and not measured in our study may have increased the risk for some ASD boys to display psychopathic tendencies. Such a factor would mean that ASD and psychopathic tendencies are not independent at the level of aetiology. If so, comorbid cases need not represent an aetiological double hit. Rather, such a factor at the aetiological level would imply that there are two routes to ASD, one 'pure form ' and one combined form where ASD co-occurs with 'high CU '. However, regardless of the aetiological mechanisms, our preliminary data allow us to refer to a double hit at the cognitive level. Future research directly comparing groups with ASD and with psychopathic tendencies (without ASD) is needed -the present study compared against published data for the latter group. Future studies would also, ideally, collect ratings from multiple informants on a range of measures (including, for example, clinical interviews and observation).\\nIn conclusion, our results suggest that callous behaviour can be measured independent of severity of ASD. Additionally, callous antisocial behaviour in ASD does not appear to result from those cognitive deficits that are core to autistic disorders, such as ' mindblindness ' and executive dysfunction. Instead, callous traits and behaviour in a small number of individuals with ASD probably reflect a cognitive 'double hit ' involving impaired empathic response to distress cues, which is not part and parcel of ASD itself. This suggestion is in line with recent proposals of multiple empathy systems and their distinct relationship with different psychopathologies . We therefore conclude that the two disorders can co-occur, but the social impairment present in ASD is distinct from that present in psychopathy. These results, if replicated, suggest that reports and concerns about 'chilling ' nasty behaviour in a young person with ASD should not be dismissed as ' just part of the autism/Asperger syndrome ', but taken very seriously for separate assessment and intervention.\",\n",
       "   'n_publication_ref': 0,\n",
       "   'n_figure_ref': 0},\n",
       "  {'heading': 'ACKNOWLEDGEMENTS',\n",
       "   'text': 'We are grateful to the pupils and staff at Southlands School for their help with this project. We also thank two anonymous reviewers for their helpful comments on this manuscript. The research was supported by MRC programme grant G9716841 to U.F.',\n",
       "   'n_publication_ref': 0,\n",
       "   'n_figure_ref': 0},\n",
       "  {'heading': 'DECLARATION OF INTEREST',\n",
       "   'text': 'None.',\n",
       "   'n_publication_ref': 0,\n",
       "   'n_figure_ref': 0}],\n",
       " 'references': [{'title': 'Diagnostic and Statistical Manual of Mental Disorders',\n",
       "   'journal': 'DC',\n",
       "   'year': '1994',\n",
       "   'authors': ''},\n",
       "  {'title': \"Die 'Autistischen Psychopathen' im Kindesalter [Autistic Psychopathy of Childhood\",\n",
       "   'journal': 'Cambridge University Press',\n",
       "   'year': '1944',\n",
       "   'authors': 'H Asperger'},\n",
       "  {'title': \"An assessment of violence in a young man with Asperger's syndrome\",\n",
       "   'journal': 'Journal of Child Psychology and Psychiatry',\n",
       "   'year': '1988',\n",
       "   'authors': 'S Baron-Cohen'},\n",
       "  {'title': 'Understanding Other Minds : Perspectives from Developmental Cognitive Neuroscience',\n",
       "   'journal': 'Oxford University Press',\n",
       "   'year': '2000',\n",
       "   'authors': 'S Baron-Cohen; H Tager-Flusberg; D J Cohen'},\n",
       "  {'title': 'An fMRI study of intentional and unintentional (embarrassing) violations of social norms',\n",
       "   'journal': 'Brain',\n",
       "   'year': '2002',\n",
       "   'authors': 'S Berthoz; J L Armony; R J Blair; R J Dolan'},\n",
       "  {'title': 'Autism screening questionnaire : diagnostic validity',\n",
       "   'journal': 'British Journal of Psychiatry',\n",
       "   'year': '1999',\n",
       "   'authors': 'S K Berument; M Rutter; C Lord; A Pickles; A Bailey'},\n",
       "  {'title': 'Exploring the borderlands of autistic disorder and specific language impairment : a study using standardised diagnostic instruments',\n",
       "   'journal': 'Journal of Child Psychology and Psychiatry',\n",
       "   'year': '2002',\n",
       "   'authors': 'D Bishop; C F Norbury'},\n",
       "  {'title': 'Brief report : morality in the autistic child',\n",
       "   'journal': 'Journal of Autism and Developmental Disorders',\n",
       "   'year': '1996',\n",
       "   'authors': 'R Blair'},\n",
       "  {'title': 'Psychophysiological responsiveness to the distress of others in children with autism',\n",
       "   'journal': 'Personality and Individual Differences',\n",
       "   'year': '1999',\n",
       "   'authors': 'R J Blair'},\n",
       "  {'title': 'Applying a cognitive neuroscience perspective to the disorder of psychopathy',\n",
       "   'journal': 'Development and Psychopathology',\n",
       "   'year': '2005',\n",
       "   'authors': 'R J Blair'},\n",
       "  {'title': 'Responding to the emotions of others : dissociating forms of empathy through the study of typical and psychiatric populations',\n",
       "   'journal': 'Consciousness and Cognition',\n",
       "   'year': '2005',\n",
       "   'authors': 'R J Blair'},\n",
       "  {'title': \"Impaired social response reversal. A case of ' acquired sociopathy\",\n",
       "   'journal': 'Brain',\n",
       "   'year': '2000',\n",
       "   'authors': 'R J Blair; L Cipolotti'},\n",
       "  {'title': 'Somatic markers and response reversal : is there orbitofrontal cortex dysfunction in boys with psychopathic tendencies',\n",
       "   'journal': 'Journal of Abnormal Child Psychology',\n",
       "   'year': '2001',\n",
       "   'authors': 'R J Blair; E Colledge; D G Mitchell'},\n",
       "  {'title': 'b). A selective impairment in the processing of sad and fearful expressions in children with psychopathic tendencies',\n",
       "   'journal': 'Journal of Abnormal Child Psychology',\n",
       "   'year': '2001',\n",
       "   'authors': 'R J Blair; E Colledge; L Murray; D G Mitchell'},\n",
       "  {'title': \"Possible Asperger's syndrome in a mentally handicapped transvestite offender\",\n",
       "   'journal': 'Journal of Intellectual Disability Research',\n",
       "   'year': '1993',\n",
       "   'authors': 'S A Cooper; W N Mohamed; R A Collacott'},\n",
       "  {'title': 'Disentangling the underlying dimensions of psychopathy and conduct problems in childhood : a community study',\n",
       "   'journal': 'Journal of Consulting and Clinical Psychology',\n",
       "   'year': '2005',\n",
       "   'authors': 'M R Dadds; J Fraser; A Frost; D J Hawes'},\n",
       "  {'title': 'Early social attention impairments in autism : social orienting, joint attention, and attention to distress',\n",
       "   'journal': 'Developmental Psychology',\n",
       "   'year': '2004',\n",
       "   'authors': 'G Dawson; K Toth; R Abbott; J Osterling; J Munson; A Estes; J Liaw'},\n",
       "  {'title': \"Living with Asperger's syndrome\",\n",
       "   'journal': 'Cambridge University Press',\n",
       "   'year': '1991',\n",
       "   'authors': 'M Dewey'},\n",
       "  {'title': 'The Antisocial Process Screening Device. Multi-Health Systems',\n",
       "   'journal': '',\n",
       "   'year': '2001',\n",
       "   'authors': 'P J Frick; R D Hare'},\n",
       "  {'title': '', 'journal': '', 'year': '1991', 'authors': 'U Frith'},\n",
       "  {'title': 'Autism : Explaining the Enigma',\n",
       "   'journal': '',\n",
       "   'year': '2003',\n",
       "   'authors': 'U Frith'},\n",
       "  {'title': 'The Strengths and Difficulties Questionnaire : a research note',\n",
       "   'journal': 'Journal of Child Psychology and Psychiatry',\n",
       "   'year': '1997',\n",
       "   'authors': 'R Goodman'},\n",
       "  {'title': 'A behavioural analysis of degree of reinforcement and ease of shifting to new responses in a Weigltype card-sorting problem',\n",
       "   'journal': 'Journal of Experimental Psychology',\n",
       "   'year': '1948',\n",
       "   'authors': 'D A Grant; E A Berg'},\n",
       "  {'title': \"Asperger's syndrome and violence\",\n",
       "   'journal': 'British Journal of Psychiatry',\n",
       "   'year': '1995',\n",
       "   'authors': 'I Hall; J Bernal'},\n",
       "  {'title': 'Manual for the Revised Psychopathy Checklist',\n",
       "   'journal': '',\n",
       "   'year': '2003',\n",
       "   'authors': 'R D Hare'},\n",
       "  {'title': 'Psychopathy : assessment and association with criminal conduct',\n",
       "   'journal': 'Wiley',\n",
       "   'year': '1997',\n",
       "   'authors': 'S D Hart; R D Hare'},\n",
       "  {'title': 'Social and motivational functioning is not critically dependent on feedback of autonomic responses : neuropsychological evidence from patients with pure autonomic failure',\n",
       "   'journal': 'Neuropsychologia',\n",
       "   'year': '2004',\n",
       "   'authors': 'H C Heims; H D Critchley; R Dolan; C J Mathias; L Cipolotti'},\n",
       "  {'title': 'Executive dysfunction in autism',\n",
       "   'journal': 'Trends in Cognitive Sciences',\n",
       "   'year': '2004',\n",
       "   'authors': 'E L Hill'},\n",
       "  {'title': \"A retrospective analysis of the clinical case records of 'autistic psychopaths ' diagnosed by Hans Asperger and his team at the University Children's Hospital, Vienna\",\n",
       "   'journal': '',\n",
       "   'year': '2003',\n",
       "   'authors': 'K Hippler; C Klicpera'},\n",
       "  {'title': 'Evidence for executive dysfunction in autism',\n",
       "   'journal': 'Neuropsychologia',\n",
       "   'year': '1994',\n",
       "   'authors': 'C Hughes; J Russell; T W Robbins'},\n",
       "  {'title': \"Aggression and sexual offense in Asperger's syndrome\",\n",
       "   'journal': 'Israel Journal of Psychiatry and Related Sciences',\n",
       "   'year': '1998',\n",
       "   'authors': 'Y Kohn; T Fahum; G Ratzoni; A Apter'},\n",
       "  {'title': 'Practitioner review : computerized assessment of neuropsychological function in children : clinical and research applications of the Cambridge Neuropsychological Testing Automated Battery (CANTAB)',\n",
       "   'journal': 'Journal of Child Psychology and Psychiatry',\n",
       "   'year': '2003',\n",
       "   'authors': 'M Luciana'},\n",
       "  {'title': \"Violence and Asperger's syndrome : a case study\",\n",
       "   'journal': 'British Journal of Psychiatry',\n",
       "   'year': '1985',\n",
       "   'authors': 'D Mawson; A Grounds; D Tantam'},\n",
       "  {'title': 'Life-course-persistent and adolescence-limited antisocial behavior',\n",
       "   'journal': 'Guilford Press',\n",
       "   'year': '2003',\n",
       "   'authors': 'T E Moffitt'},\n",
       "  {'title': 'Performance on Cambridge Neuropsychological Test Automated Battery subtests sensitive to frontal lobe function in people with autistic disorder : evidence from the Collaborative Programs of Excellence in Autism network',\n",
       "   'journal': 'Journal of Autism and Developmental Disorders',\n",
       "   'year': '2004',\n",
       "   'authors': 'S Ozonoff; I Cook; H Coon; G Dawson; R M Joseph; A Klin; W M Mcmahon; N Minshew; J A Munson; B F Pennington; S J Rogers; M A Spence; H Tager-Flusberg; F R Volkmar; D Wrathall'},\n",
       "  {'title': 'Neuropsychological analyses of impulsiveness in childhood hyperactivity',\n",
       "   'journal': 'British Journal of Psychiatry',\n",
       "   'year': '2001',\n",
       "   'authors': 'K Rubia; E Taylor; A Smith; H Oksanen; S Overmeyer; S Newman'},\n",
       "  {'title': 'Social Communication Questionnaire. Western Psychological Services',\n",
       "   'journal': '',\n",
       "   'year': '2003',\n",
       "   'authors': 'M Rutter; A Bailey; C Lord'},\n",
       "  {'title': \"Prevalence of Asperger's syndrome in a secure hospital\",\n",
       "   'journal': 'British Journal of Psychiatry',\n",
       "   'year': '1994',\n",
       "   'authors': 'P Scragg; A Shah'},\n",
       "  {'title': 'Social and cardiac responses of young children with autism',\n",
       "   'journal': 'Autism',\n",
       "   'year': '2003',\n",
       "   'authors': 'M Sigman; C Dissanayake; R Corona; M Espinosa'},\n",
       "  {'title': 'Responses to the negative emotions of others by autistic, mentally retarded, and normal children',\n",
       "   'journal': 'Child Development',\n",
       "   'year': '1992',\n",
       "   'authors': 'M D Sigman; C Kasari; J Kwon; N Yirmiya'},\n",
       "  {'title': 'A neuropsychiatric developmental model of serial homicidal behavior',\n",
       "   'journal': 'Behavioral Sciences and the Law',\n",
       "   'year': '2004',\n",
       "   'authors': 'J Silva; G Leong; M Ferrari'},\n",
       "  {'title': 'Juvenile and young adult mentally disordered offenders : the role of child neuropsychiatric disorders',\n",
       "   'journal': 'Journal of the American Academy of Psychiatry and the Law',\n",
       "   'year': '2001',\n",
       "   'authors': 'L Siponmaa; M Kristiansson; C Jonson; A Nyden; C Gillberg'},\n",
       "  {'title': \"Preschool children's conceptions of transgressions : effects of varying moral and conventional domain-related attributes\",\n",
       "   'journal': 'Developmental Psychology',\n",
       "   'year': '1985',\n",
       "   'authors': 'J Smetana'},\n",
       "  {'title': 'Lifelong eccentricity and social isolation. I. Psychiatric, social, and forensic aspects',\n",
       "   'journal': 'British Journal of Psychiatry',\n",
       "   'year': '1988',\n",
       "   'authors': 'D Tantam'}],\n",
       " 'figures': [{'figure_label': '',\n",
       "   'figure_type': '',\n",
       "   'figure_id': 'fig_0',\n",
       "   'figure_caption': 'a, b; E. Viding & R. J. Blair, unpublished observations).',\n",
       "   'figure_data': ''},\n",
       "  {'figure_label': '1',\n",
       "   'figure_type': 'table',\n",
       "   'figure_id': 'tab_0',\n",
       "   'figure_caption': \"Participant characteristics of the 'CU-low ' and 'CU-high ' groups\",\n",
       "   'figure_data': 'CU-lowCU-high(n=18)(n=10)GroupMeanS.D.MeanS.D.differencesSCQ total APSD total APSD C/U FSIQ PIQ VIQ Age25 . 4 14 . 4 3 . 4 92 . 1 87 . 4 98 . 3 14 . 514 . 3 1 . 4 0 . 35 22 . 2 22 . 9 21 . 1 2 . 3425 . 0 25 . 0 7 . 2 85 . 0 79 . 7 93 . 0 14 . 605 . 9 5 . 7 0 . 42 F=44 . 4, p=0 . 00 N.S. (F<1) F=20 . 1, p=0 . 00 13 . 5 N.S. (F<1) 15 . 7 N.S. (F<1) 17 . 4 N.S. (F<1) 2 . 58 N.S. (F<1)CU, Callous-unemotional ; SCQ, Social CommunicationQuestionnaire ; APSD, Antisocial Process Screening Device ; FSIQ,Full-Scale Intelligence Quotient; PIQ, Performance IntelligenceQuotient ; VIQ, Verbal Intelligence Quotient ; S.D., standard devi-ation ; N.S., not significant.'},\n",
       "  {'figure_label': '2',\n",
       "   'figure_type': 'table',\n",
       "   'figure_id': 'tab_1',\n",
       "   'figure_caption': \"' CU-low ' and ' CU-high ' group performance on the experimental measures\",\n",
       "   'figure_data': 'CU-low (n=18)CU-high (n=10)SignificantdifferencesEffectMeasureMeanS.D.MeanS.D.(two-tailed)sizeGo/No-Go Probability of inhibition Omission errors67 . 7 10 . 61 2 . 8 1 2 . 26 3 . 8 1 8 . 01 5 . 2 2 3 . 5N.S. (F<1) N.S. (F=1 . 2)ID/ED Mean reversal errors ED shift errors2 . 1 18 . 73 . 6 1 1 . 71 . 6 1 7 . 00 . 92 8 . 7N.S. (F<1) N.S. (F<1)Rule contingency Moral Conventional3 . 1 1 . 91 . 4 1 . 73 . 5 3 . 51 . 3 1 . 3Group : F=4 . 6, p=0 . 04 Transgression : F=3 . 9, p=0 . 06 GrouprTransgression: F=3 . 9, p=0 . 061 . 07Social situations Normative correct8 . 42 . 08 . 72 . 3N.S. (F<1)(max. 12) Violations correct8 . 11 . 87 . 22 . 8N.S. (F=1 . 1)(max. 10) Total rating to violations15 . 34 . 71 2 . 75 . 0N.S. (F=1 . 8)(max. 30)Emotional multimorph Mean frame latency (max. 22) Anger Happiness Fear Sadness Disgust Surprise14 . 9 11 . 9 14 . 3 15 . 6 15 . 0 14 . 93 . 2 3 . 4 3 . 2 2 . 9 3 . 1 2 . 71 5 . 5 1 3 . 5 1 4 . 3 1 8 . 1 1 5 . 6 1 5 . 12 . 1 2 . 6 2 . 9 2 . 7 3 . 8 2 . 1Group : N.S. (F=2 . 0) Emotion : F=7 . 5, p=0 . 00 GrouprEmotion : N.S. (F=1 . 2) ---T=2 . 17, p=0 . 04 (planned comparison) --0 . 89Number correct (max. 3)Group : N.S. (F=1 . 3) Emotion : F=7 . 1, p=0 . 00Anger Happiness Fear Sadness Disgust Surprise2 . 4 2 . 9 2 . 0 2 . 3 1 . 8 2 . 10 . 70 0 . 24 0 . 69 0 . 67 0 . 87 0 . 872 . 3 3 . 0 2 . 5 2 . 3 1 . 9 2 . 41 . 1 0 . 00 0 . 85 0 . 83 0 . 74 0 . 52GrouprEmotion : N.S. (F<1) ------CU, Callous-unemotional ; ID/ED, intra-dimensional/extra-dimensional ; S.D., standard deviation ; N.S., not significant.'}],\n",
       " 'formulas': [],\n",
       " 'doi': '10.1017/S0033291706008853',\n",
       " 'path': 'data/raw/UF Papers 2007-2008 copy/Rogers Viding B,F,H 06.pdf'}"
      ]
     },
     "execution_count": 7,
     "metadata": {},
     "output_type": "execute_result"
    }
   ],
   "source": [
    "pub[4]"
   ]
  },
  {
   "cell_type": "code",
   "execution_count": 8,
   "metadata": {},
   "outputs": [],
   "source": [
    "abs = []\n",
    "fss = []\n",
    "\n",
    "for article in pub:\n",
    "\n",
    "    abstract = article['abstract']\n",
    "    first_section = article['sections'][0]\n",
    "\n",
    "    abs.append(abstract)\n",
    "    fss.append(first_section)"
   ]
  },
  {
   "cell_type": "code",
   "execution_count": 14,
   "metadata": {},
   "outputs": [
    {
     "data": {
      "text/plain": [
       "[119, 154]"
      ]
     },
     "execution_count": 14,
     "metadata": {},
     "output_type": "execute_result"
    }
   ],
   "source": [
    "[\n",
    "    len([i for i in abs if i]),\n",
    "    len([i for i in fss if i])\n",
    "]"
   ]
  },
  {
   "cell_type": "code",
   "execution_count": 17,
   "metadata": {},
   "outputs": [
    {
     "data": {
      "text/plain": [
       "12"
      ]
     },
     "execution_count": 17,
     "metadata": {},
     "output_type": "execute_result"
    }
   ],
   "source": [
    "len(article['sections'][0]['heading'])"
   ]
  },
  {
   "cell_type": "code",
   "execution_count": 16,
   "metadata": {},
   "outputs": [
    {
     "data": {
      "text/plain": [
       "6487"
      ]
     },
     "execution_count": 16,
     "metadata": {},
     "output_type": "execute_result"
    }
   ],
   "source": [
    "len(article['sections'][0]['text'])"
   ]
  },
  {
   "cell_type": "code",
   "execution_count": 26,
   "metadata": {},
   "outputs": [
    {
     "data": {
      "text/plain": [
       "<Axes: ylabel='Density'>"
      ]
     },
     "execution_count": 26,
     "metadata": {},
     "output_type": "execute_result"
    },
    {
     "data": {
      "image/png": "[encoded data removed]",
      "text/plain": [
       "<Figure size 640x480 with 1 Axes>"
      ]
     },
     "metadata": {},
     "output_type": "display_data"
    }
   ],
   "source": [
    "import seaborn as sns\n",
    "\n",
    "abs_lengths = [len(art['abstract']) for art in pub]\n",
    "sns.kdeplot(abs_lengths)"
   ]
  },
  {
   "cell_type": "code",
   "execution_count": null,
   "metadata": {},
   "outputs": [],
   "source": []
  }
 ],
 "metadata": {
  "kernelspec": {
   "display_name": "avila_env",
   "language": "python",
   "name": "python3"
  },
  "language_info": {
   "codemirror_mode": {
    "name": "ipython",
    "version": 3
   },
   "file_extension": ".py",
   "mimetype": "text/x-python",
   "name": "python",
   "nbconvert_exporter": "python",
   "pygments_lexer": "ipython3",
   "version": "3.10.12"
  }
 },
 "nbformat": 4,
 "nbformat_minor": 2
}
