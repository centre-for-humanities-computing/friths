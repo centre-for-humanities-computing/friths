{
 "cells": [
  {
   "cell_type": "code",
   "execution_count": 4,
   "metadata": {},
   "outputs": [],
   "source": [
    "import json\n",
    "import scipdf"
   ]
  },
  {
   "cell_type": "markdown",
   "metadata": {},
   "source": [
    "### data etc"
   ]
  },
  {
   "cell_type": "code",
   "execution_count": 11,
   "metadata": {},
   "outputs": [],
   "source": [
    "pub = []\n",
    "with open('../data/interim/publications.ndjson') as fin:\n",
    "    for line in fin:\n",
    "        json_obj = json.loads(line)\n",
    "        pub.append(json_obj)\n",
    "\n",
    "parsed_paths = [art['path'] for art in pub]"
   ]
  },
  {
   "cell_type": "code",
   "execution_count": 8,
   "metadata": {},
   "outputs": [],
   "source": [
    "with open('../data/interim/failed_pdf_paths.txt') as fin:\n",
    "    failed_paths = [line.strip() for line in fin]\n",
    "\n",
    "with open('../data/interim/non_pdf_paths.txt') as fin:\n",
    "    non_pdf_paths = [line.strip() for line in fin]"
   ]
  },
  {
   "cell_type": "code",
   "execution_count": 13,
   "metadata": {},
   "outputs": [
    {
     "data": {
      "text/plain": [
       "[155, 23, 119]"
      ]
     },
     "execution_count": 13,
     "metadata": {},
     "output_type": "execute_result"
    }
   ],
   "source": [
    "[\n",
    "    len(parsed_paths),\n",
    "    len(non_pdf_paths),\n",
    "    len(failed_paths),\n",
    "]"
   ]
  },
  {
   "cell_type": "markdown",
   "metadata": {},
   "source": [
    "### what's going on with the failed ones?"
   ]
  },
  {
   "cell_type": "code",
   "execution_count": null,
   "metadata": {},
   "outputs": [],
   "source": [
    "sample_fail = failed_paths[0]\n",
    "\n",
    "article_dict = scipdf.parse_pdf_to_dict(sample_fail)"
   ]
  }
 ],
 "metadata": {
  "kernelspec": {
   "display_name": "avila_env",
   "language": "python",
   "name": "python3"
  },
  "language_info": {
   "codemirror_mode": {
    "name": "ipython",
    "version": 3
   },
   "file_extension": ".py",
   "mimetype": "text/x-python",
   "name": "python",
   "nbconvert_exporter": "python",
   "pygments_lexer": "ipython3",
   "version": "3.10.12"
  }
 },
 "nbformat": 4,
 "nbformat_minor": 2
}
