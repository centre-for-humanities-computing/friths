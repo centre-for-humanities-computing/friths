{
 "cells": [
  {
   "cell_type": "code",
   "execution_count": 18,
   "metadata": {},
   "outputs": [],
   "source": [
    "import os\n",
    "import time\n",
    "from tqdm import tqdm\n",
    "import pandas as pd\n",
    "from pybliometrics.scopus import ScopusSearch, AbstractRetrieval, CitationOverview\n",
    "\n",
    "from src.dataset.util import write_jsonl, read_jsonl"
   ]
  },
  {
   "cell_type": "code",
   "execution_count": 3,
   "metadata": {},
   "outputs": [],
   "source": [
    "id_uta = 56046313500\n",
    "id_chris = 36051252900\n",
    "\n",
    "dump_uta = pd.read_csv('../data/raw/ScopusExport_56046313500.csv')\n",
    "dump_chris = pd.read_csv('../data/raw/ScopusExport_36051252900.csv')"
   ]
  },
  {
   "cell_type": "code",
   "execution_count": 4,
   "metadata": {},
   "outputs": [
    {
     "name": "stderr",
     "output_type": "stream",
     "text": [
      "100%|██████████| 207/207 [04:44<00:00,  1.38s/it]\n"
     ]
    }
   ],
   "source": [
    "failed_eids_uta = []\n",
    "abstracts_uta = []\n",
    "\n",
    "for eid in tqdm(dump_uta['eid'].tolist()):\n",
    "    time.sleep(0.5)\n",
    "    try:\n",
    "        abs = AbstractRetrieval(eid, view='FULL', id_type='eid')\n",
    "        abstracts_uta.append(abs)\n",
    "    except:\n",
    "        failed_eids_uta.append(eid)\n",
    "        continue\n",
    "\n",
    "# turn into json for saving\n",
    "uta_export = []\n",
    "for a in abstracts_uta:\n",
    "    uta_export.append(a._json)\n",
    "\n",
    "write_jsonl(uta_export, '../data/raw/scopus_abstracts/abstracts_uta.jsonl')"
   ]
  },
  {
   "cell_type": "code",
   "execution_count": 6,
   "metadata": {},
   "outputs": [
    {
     "name": "stderr",
     "output_type": "stream",
     "text": [
      "100%|██████████| 707/707 [10:43<00:00,  1.10it/s] \n"
     ]
    }
   ],
   "source": [
    "failed_eids_chris = []\n",
    "abstracts_chris = []\n",
    "\n",
    "for eid in tqdm(dump_chris['eid'].tolist()):\n",
    "    time.sleep(0.5)\n",
    "    try:\n",
    "        abs = AbstractRetrieval(eid, view='FULL', id_type='eid')\n",
    "        abstracts_chris.append(abs)\n",
    "    except:\n",
    "        failed_eids_chris.append(eid)\n",
    "        continue\n",
    "\n",
    "\n",
    "chris_export = []\n",
    "for a in abstracts_chris:\n",
    "    chris_export.append(a._json)\n",
    "\n",
    "write_jsonl(chris_export, '../data/raw/scopus_abstracts/abstracts_chris.jsonl')"
   ]
  },
  {
   "cell_type": "markdown",
   "metadata": {},
   "source": [
    "### simple eid:abstract files"
   ]
  },
  {
   "cell_type": "code",
   "execution_count": 24,
   "metadata": {},
   "outputs": [
    {
     "name": "stdout",
     "output_type": "stream",
     "text": [
      "<class 'pandas.core.frame.DataFrame'>\n",
      "RangeIndex: 707 entries, 0 to 706\n",
      "Data columns (total 2 columns):\n",
      " #   Column    Non-Null Count  Dtype \n",
      "---  ------    --------------  ----- \n",
      " 0   eid       707 non-null    object\n",
      " 1   abstract  540 non-null    object\n",
      "dtypes: object(2)\n",
      "memory usage: 11.2+ KB\n"
     ]
    }
   ],
   "source": [
    "simple_chris = []\n",
    "for a in abstracts_chris:\n",
    "    one = {\n",
    "        'eid': a.eid,\n",
    "        'abstract': a.abstract,\n",
    "    }\n",
    "    simple_chris.append(one)\n",
    "\n",
    "df_simple_chris = pd.DataFrame(simple_chris)\n",
    "df_simple_chris.info()"
   ]
  },
  {
   "cell_type": "code",
   "execution_count": 25,
   "metadata": {},
   "outputs": [
    {
     "name": "stdout",
     "output_type": "stream",
     "text": [
      "<class 'pandas.core.frame.DataFrame'>\n",
      "RangeIndex: 207 entries, 0 to 206\n",
      "Data columns (total 2 columns):\n",
      " #   Column    Non-Null Count  Dtype \n",
      "---  ------    --------------  ----- \n",
      " 0   eid       207 non-null    object\n",
      " 1   abstract  151 non-null    object\n",
      "dtypes: object(2)\n",
      "memory usage: 3.4+ KB\n"
     ]
    }
   ],
   "source": [
    "simple_uta = []\n",
    "for a in abstracts_uta:\n",
    "    one = {\n",
    "        'eid': a.eid,\n",
    "        'abstract': a.abstract,\n",
    "    }\n",
    "    simple_uta.append(one)\n",
    "\n",
    "df_simle_uta = pd.DataFrame(simple_uta)\n",
    "df_simle_uta.info()"
   ]
  },
  {
   "cell_type": "code",
   "execution_count": 27,
   "metadata": {},
   "outputs": [],
   "source": [
    "df_simle_uta.to_csv('../data/raw/scopus_abstracts/abstracts_uta_simple.csv', index=False)\n",
    "df_simple_chris.to_csv('../data/raw/scopus_abstracts/abstracts_chris_simple.csv', index=False)\n",
    "\n",
    "# single file\n",
    "pd.concat([df_simple_chris, df_simle_uta]).to_csv('../data/raw/scopus_abstracts/abstracts_merged_simple.csv', index=False)"
   ]
  }
 ],
 "metadata": {
  "kernelspec": {
   "display_name": ".venv",
   "language": "python",
   "name": "python3"
  },
  "language_info": {
   "codemirror_mode": {
    "name": "ipython",
    "version": 3
   },
   "file_extension": ".py",
   "mimetype": "text/x-python",
   "name": "python",
   "nbconvert_exporter": "python",
   "pygments_lexer": "ipython3",
   "version": "3.11.6"
  }
 },
 "nbformat": 4,
 "nbformat_minor": 2
}
