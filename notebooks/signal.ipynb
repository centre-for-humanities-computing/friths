{
 "cells": [
  {
   "cell_type": "code",
   "execution_count": null,
   "metadata": {},
   "outputs": [],
   "source": [
    "import os\n",
    "import pandas as pd\n",
    "\n",
    "from infodynamics import WindowedRollingDistance\n",
    "\n",
    "\n",
    "DATA_PROCESSED = '../data/processed/'\n",
    "DATA_INTERIM = '../data/interim/'"
   ]
  },
  {
   "cell_type": "code",
   "execution_count": null,
   "metadata": {},
   "outputs": [],
   "source": [
    "### load data\n",
    "X = pd.read_csv(os.path.join(DATA_PROCESSED, ''))"
   ]
  },
  {
   "cell_type": "code",
   "execution_count": null,
   "metadata": {},
   "outputs": [],
   "source": [
    "signals = []\n",
    "for w in range(1, 21):\n",
    "    wrd = WindowedRollingDistance(window_size=w, measure='cosine')\n",
    "    sig_w = wrd.fit_transform(X)\n",
    "    signals.append(sig_w)"
   ]
  }
 ],
 "metadata": {
  "kernelspec": {
   "display_name": ".venv",
   "language": "python",
   "name": "python3"
  },
  "language_info": {
   "name": "python",
   "version": "3.11.6"
  }
 },
 "nbformat": 4,
 "nbformat_minor": 2
}
