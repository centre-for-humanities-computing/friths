{
 "cells": [
  {
   "cell_type": "code",
   "execution_count": 1,
   "metadata": {},
   "outputs": [
    {
     "name": "stderr",
     "output_type": "stream",
     "text": [
      "/Users/au582299/Repositories/friths/.venv/lib/python3.11/site-packages/tqdm/auto.py:21: TqdmWarning: IProgress not found. Please update jupyter and ipywidgets. See https://ipywidgets.readthedocs.io/en/stable/user_install.html\n",
      "  from .autonotebook import tqdm as notebook_tqdm\n"
     ]
    }
   ],
   "source": [
    "import os\n",
    "import numpy as np\n",
    "import pandas as pd\n",
    "\n",
    "from infodynamics.metrics import cos_sim, js_dist\n",
    "from src.dataset.util import read_jsonl, write_jsonl\n",
    "\n",
    "\n",
    "DATA_PROCESSED = '../data/processed/'\n",
    "DATA_INTERIM = '../data/interim/'"
   ]
  },
  {
   "cell_type": "code",
   "execution_count": null,
   "metadata": {},
   "outputs": [],
   "source": [
    "publications = read_jsonl(os.path.join(DATA_PROCESSED, 'publication.jsonl'))\n",
    "df_pub = pd.DataFrame.from_dict(publications)\n",
    "df_pub['doc_id'] = df_pub.apply(lambda x: x['id'].split('_')[0])"
   ]
  },
  {
   "cell_type": "code",
   "execution_count": null,
   "metadata": {},
   "outputs": [],
   "source": [
    "distances = []\n",
    "for i in publications['doc_id']:\n",
    "    abs = publications.filter(lambda x: x['id'] == str(i) + \"_a\")\n",
    "    bod = publications.filter(lambda x: x['id'] == str(i) + \"_b\")\n",
    "    dist = cos_sim(\n",
    "        np.array(abs['embedding']), \n",
    "        np.array(bod['embedding'])\n",
    "        )\n",
    "    distances.append(dist)"
   ]
  },
  {
   "cell_type": "code",
   "execution_count": null,
   "metadata": {},
   "outputs": [],
   "source": [
    "meta = pd.read_csv(os.path.join(DATA_INTERIM, 'publications_meta.csv'))\n",
    "meta['distance'] = distances\n",
    "meta['distance'].plot()"
   ]
  },
  {
   "cell_type": "code",
   "execution_count": null,
   "metadata": {},
   "outputs": [],
   "source": []
  }
 ],
 "metadata": {
  "kernelspec": {
   "display_name": ".venv",
   "language": "python",
   "name": "python3"
  },
  "language_info": {
   "codemirror_mode": {
    "name": "ipython",
    "version": 3
   },
   "file_extension": ".py",
   "mimetype": "text/x-python",
   "name": "python",
   "nbconvert_exporter": "python",
   "pygments_lexer": "ipython3",
   "version": "3.11.6"
  }
 },
 "nbformat": 4,
 "nbformat_minor": 2
}
