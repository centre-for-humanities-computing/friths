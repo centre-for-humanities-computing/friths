{
 "cells": [
  {
   "cell_type": "code",
   "execution_count": 215,
   "metadata": {},
   "outputs": [],
   "source": [
    "import os\n",
    "import numpy as np\n",
    "import pandas as pd\n",
    "import matplotlib.pyplot as plt\n",
    "\n",
    "from infodynamics.metrics import cos_sim\n",
    "from src.dataset.util import read_jsonl\n",
    "from sklearn.metrics.pairwise import cosine_similarity\n",
    "\n",
    "\n",
    "DATA_PROCESSED = '../data/processed/'\n",
    "DATA_INTERIM = '../data/interim/'"
   ]
  },
  {
   "cell_type": "code",
   "execution_count": 216,
   "metadata": {},
   "outputs": [],
   "source": [
    "# for ncier printing\n",
    "pd.set_option('display.max_colwidth', 20)"
   ]
  },
  {
   "cell_type": "code",
   "execution_count": 217,
   "metadata": {},
   "outputs": [],
   "source": [
    "# load merged and embedded data\n",
    "publications = read_jsonl(os.path.join(DATA_PROCESSED, 'publications_merged_concat.ndjson'))\n",
    "df_pub = pd.DataFrame.from_dict(publications)\n"
   ]
  },
  {
   "cell_type": "code",
   "execution_count": 218,
   "metadata": {},
   "outputs": [],
   "source": [
    "# load meta data\n",
    "meta = pd.read_csv(os.path.join(DATA_INTERIM, 'meta_publications_merged.csv'))"
   ]
  },
  {
   "cell_type": "code",
   "execution_count": 219,
   "metadata": {},
   "outputs": [],
   "source": [
    "# change column name to allow for merging\n",
    "meta = meta.rename(columns = {'id':'pub_id'})"
   ]
  },
  {
   "cell_type": "code",
   "execution_count": 220,
   "metadata": {},
   "outputs": [],
   "source": [
    "# more name changes for merging\n",
    "df_pub[['pub_id', 'a_b']] = df_pub['id'].str.split('_', expand=True)"
   ]
  },
  {
   "cell_type": "code",
   "execution_count": 221,
   "metadata": {},
   "outputs": [],
   "source": [
    "# merge\n",
    "merged_pub = df_pub.merge(meta, on = 'pub_id')"
   ]
  },
  {
   "cell_type": "code",
   "execution_count": 222,
   "metadata": {},
   "outputs": [
    {
     "data": {
      "text/html": [
       "<div>\n",
       "<style scoped>\n",
       "    .dataframe tbody tr th:only-of-type {\n",
       "        vertical-align: middle;\n",
       "    }\n",
       "\n",
       "    .dataframe tbody tr th {\n",
       "        vertical-align: top;\n",
       "    }\n",
       "\n",
       "    .dataframe thead th {\n",
       "        text-align: right;\n",
       "    }\n",
       "</style>\n",
       "<table border=\"1\" class=\"dataframe\">\n",
       "  <thead>\n",
       "    <tr style=\"text-align: right;\">\n",
       "      <th></th>\n",
       "      <th>id</th>\n",
       "      <th>pub_date</th>\n",
       "      <th>text</th>\n",
       "      <th>embeddings</th>\n",
       "      <th>warning</th>\n",
       "      <th>pub_id</th>\n",
       "      <th>a_b</th>\n",
       "      <th>title</th>\n",
       "      <th>date</th>\n",
       "      <th>doi</th>\n",
       "      <th>path</th>\n",
       "      <th>source</th>\n",
       "      <th>reconstructed_date</th>\n",
       "    </tr>\n",
       "  </thead>\n",
       "  <tbody>\n",
       "    <tr>\n",
       "      <th>0</th>\n",
       "      <td>p1_a</td>\n",
       "      <td></td>\n",
       "      <td>Recent studies o...</td>\n",
       "      <td>[-0.029172636568...</td>\n",
       "      <td>ok :)</td>\n",
       "      <td>p1</td>\n",
       "      <td>a</td>\n",
       "      <td>Knowing me, know...</td>\n",
       "      <td>NaN</td>\n",
       "      <td>10.1177/13623613...</td>\n",
       "      <td>data/raw/UTA pub...</td>\n",
       "      <td>parsing</td>\n",
       "      <td>2020</td>\n",
       "    </tr>\n",
       "    <tr>\n",
       "      <th>1</th>\n",
       "      <td>p1_b</td>\n",
       "      <td></td>\n",
       "      <td>Introduction\\nTh...</td>\n",
       "      <td>[-0.030077671632...</td>\n",
       "      <td>ok :)</td>\n",
       "      <td>p1</td>\n",
       "      <td>b</td>\n",
       "      <td>Knowing me, know...</td>\n",
       "      <td>NaN</td>\n",
       "      <td>10.1177/13623613...</td>\n",
       "      <td>data/raw/UTA pub...</td>\n",
       "      <td>parsing</td>\n",
       "      <td>2020</td>\n",
       "    </tr>\n",
       "    <tr>\n",
       "      <th>2</th>\n",
       "      <td>p2_a</td>\n",
       "      <td>2013-12-19</td>\n",
       "      <td>Some autistic ch...</td>\n",
       "      <td>[-0.024920951575...</td>\n",
       "      <td>ok :)</td>\n",
       "      <td>p2</td>\n",
       "      <td>a</td>\n",
       "      <td>Autistic adolesc...</td>\n",
       "      <td>2013-12-19</td>\n",
       "      <td>10.1016/j.neurop...</td>\n",
       "      <td>data/raw/UTA pub...</td>\n",
       "      <td>parsing</td>\n",
       "      <td>2013-12-19</td>\n",
       "    </tr>\n",
       "    <tr>\n",
       "      <th>3</th>\n",
       "      <td>p2_b</td>\n",
       "      <td>2013-12-19</td>\n",
       "      <td>Introduction\\nOn...</td>\n",
       "      <td>[]</td>\n",
       "      <td>Error code: 400 ...</td>\n",
       "      <td>p2</td>\n",
       "      <td>b</td>\n",
       "      <td>Autistic adolesc...</td>\n",
       "      <td>2013-12-19</td>\n",
       "      <td>10.1016/j.neurop...</td>\n",
       "      <td>data/raw/UTA pub...</td>\n",
       "      <td>parsing</td>\n",
       "      <td>2013-12-19</td>\n",
       "    </tr>\n",
       "    <tr>\n",
       "      <th>4</th>\n",
       "      <td>p3_a</td>\n",
       "      <td></td>\n",
       "      <td>Fast Science is ...</td>\n",
       "      <td>[-0.015155889093...</td>\n",
       "      <td>ok :)</td>\n",
       "      <td>p3</td>\n",
       "      <td>a</td>\n",
       "      <td>Fast Lane to Slo...</td>\n",
       "      <td>NaN</td>\n",
       "      <td>10.1016/j.tics.2...</td>\n",
       "      <td>data/raw/UTA pub...</td>\n",
       "      <td>parsing</td>\n",
       "      <td>2019</td>\n",
       "    </tr>\n",
       "    <tr>\n",
       "      <th>5</th>\n",
       "      <td>p3_b</td>\n",
       "      <td></td>\n",
       "      <td>\\nMore Speed, Mo...</td>\n",
       "      <td>[-0.024415155872...</td>\n",
       "      <td>ok :)</td>\n",
       "      <td>p3</td>\n",
       "      <td>b</td>\n",
       "      <td>Fast Lane to Slo...</td>\n",
       "      <td>NaN</td>\n",
       "      <td>10.1016/j.tics.2...</td>\n",
       "      <td>data/raw/UTA pub...</td>\n",
       "      <td>parsing</td>\n",
       "      <td>2019</td>\n",
       "    </tr>\n",
       "    <tr>\n",
       "      <th>6</th>\n",
       "      <td>p4_a</td>\n",
       "      <td></td>\n",
       "      <td>One contribution...</td>\n",
       "      <td>[-0.005250494461...</td>\n",
       "      <td>ok :)</td>\n",
       "      <td>p4</td>\n",
       "      <td>a</td>\n",
       "      <td>NaN</td>\n",
       "      <td>NaN</td>\n",
       "      <td>10.1098/rstb.201...</td>\n",
       "      <td>data/raw/UTA pub...</td>\n",
       "      <td>parsing</td>\n",
       "      <td>2018</td>\n",
       "    </tr>\n",
       "    <tr>\n",
       "      <th>7</th>\n",
       "      <td>p4_b</td>\n",
       "      <td></td>\n",
       "      <td>\\nDepression, sc...</td>\n",
       "      <td>[-0.025009071454...</td>\n",
       "      <td>ok :)</td>\n",
       "      <td>p4</td>\n",
       "      <td>b</td>\n",
       "      <td>NaN</td>\n",
       "      <td>NaN</td>\n",
       "      <td>10.1098/rstb.201...</td>\n",
       "      <td>data/raw/UTA pub...</td>\n",
       "      <td>parsing</td>\n",
       "      <td>2018</td>\n",
       "    </tr>\n",
       "    <tr>\n",
       "      <th>8</th>\n",
       "      <td>p5_a</td>\n",
       "      <td></td>\n",
       "      <td></td>\n",
       "      <td>[]</td>\n",
       "      <td>empty</td>\n",
       "      <td>p5</td>\n",
       "      <td>a</td>\n",
       "      <td>Mapping Mentalis...</td>\n",
       "      <td>NaN</td>\n",
       "      <td>10.1007/978-3-03...</td>\n",
       "      <td>data/raw/UTA pub...</td>\n",
       "      <td>parsing</td>\n",
       "      <td>2021</td>\n",
       "    </tr>\n",
       "    <tr>\n",
       "      <th>9</th>\n",
       "      <td>p5_b</td>\n",
       "      <td></td>\n",
       "      <td>Introduction\\nWe...</td>\n",
       "      <td>[]</td>\n",
       "      <td>Error code: 400 ...</td>\n",
       "      <td>p5</td>\n",
       "      <td>b</td>\n",
       "      <td>Mapping Mentalis...</td>\n",
       "      <td>NaN</td>\n",
       "      <td>10.1007/978-3-03...</td>\n",
       "      <td>data/raw/UTA pub...</td>\n",
       "      <td>parsing</td>\n",
       "      <td>2021</td>\n",
       "    </tr>\n",
       "    <tr>\n",
       "      <th>10</th>\n",
       "      <td>p6_a</td>\n",
       "      <td></td>\n",
       "      <td>Recent studies o...</td>\n",
       "      <td>[-0.029402825981...</td>\n",
       "      <td>ok :)</td>\n",
       "      <td>p6</td>\n",
       "      <td>a</td>\n",
       "      <td>F o r P e e r R ...</td>\n",
       "      <td>NaN</td>\n",
       "      <td>10.1016/0010-027...</td>\n",
       "      <td>data/raw/UTA pub...</td>\n",
       "      <td>parsing</td>\n",
       "      <td>2020</td>\n",
       "    </tr>\n",
       "    <tr>\n",
       "      <th>11</th>\n",
       "      <td>p6_b</td>\n",
       "      <td></td>\n",
       "      <td>\\nGoldman, 2006...</td>\n",
       "      <td>[-0.021293981000...</td>\n",
       "      <td>ok :)</td>\n",
       "      <td>p6</td>\n",
       "      <td>b</td>\n",
       "      <td>F o r P e e r R ...</td>\n",
       "      <td>NaN</td>\n",
       "      <td>10.1016/0010-027...</td>\n",
       "      <td>data/raw/UTA pub...</td>\n",
       "      <td>parsing</td>\n",
       "      <td>2020</td>\n",
       "    </tr>\n",
       "    <tr>\n",
       "      <th>12</th>\n",
       "      <td>p7_a</td>\n",
       "      <td></td>\n",
       "      <td></td>\n",
       "      <td>[]</td>\n",
       "      <td>empty</td>\n",
       "      <td>p7</td>\n",
       "      <td>a</td>\n",
       "      <td>NaN</td>\n",
       "      <td>NaN</td>\n",
       "      <td>NaN</td>\n",
       "      <td>data/raw/UTA pub...</td>\n",
       "      <td>parsing</td>\n",
       "      <td>2014</td>\n",
       "    </tr>\n",
       "    <tr>\n",
       "      <th>13</th>\n",
       "      <td>p7_b</td>\n",
       "      <td></td>\n",
       "      <td>\\nUta Frith bega...</td>\n",
       "      <td>[]</td>\n",
       "      <td>Error code: 400 ...</td>\n",
       "      <td>p7</td>\n",
       "      <td>b</td>\n",
       "      <td>NaN</td>\n",
       "      <td>NaN</td>\n",
       "      <td>NaN</td>\n",
       "      <td>data/raw/UTA pub...</td>\n",
       "      <td>parsing</td>\n",
       "      <td>2014</td>\n",
       "    </tr>\n",
       "    <tr>\n",
       "      <th>14</th>\n",
       "      <td>p8_a</td>\n",
       "      <td>2020-10-01</td>\n",
       "      <td></td>\n",
       "      <td>[]</td>\n",
       "      <td>empty</td>\n",
       "      <td>p8</td>\n",
       "      <td>a</td>\n",
       "      <td>Dimensional or C...</td>\n",
       "      <td>2020-10-01</td>\n",
       "      <td>10.1007/s10803-0...</td>\n",
       "      <td>data/raw/UTA pub...</td>\n",
       "      <td>parsing</td>\n",
       "      <td>2020-10-01</td>\n",
       "    </tr>\n",
       "    <tr>\n",
       "      <th>15</th>\n",
       "      <td>p8_b</td>\n",
       "      <td>2020-10-01</td>\n",
       "      <td>\\nWe are gratefu...</td>\n",
       "      <td>[-0.021333092823...</td>\n",
       "      <td>ok :)</td>\n",
       "      <td>p8</td>\n",
       "      <td>b</td>\n",
       "      <td>Dimensional or C...</td>\n",
       "      <td>2020-10-01</td>\n",
       "      <td>10.1007/s10803-0...</td>\n",
       "      <td>data/raw/UTA pub...</td>\n",
       "      <td>parsing</td>\n",
       "      <td>2020-10-01</td>\n",
       "    </tr>\n",
       "    <tr>\n",
       "      <th>16</th>\n",
       "      <td>p9_a</td>\n",
       "      <td></td>\n",
       "      <td></td>\n",
       "      <td>[]</td>\n",
       "      <td>empty</td>\n",
       "      <td>p9</td>\n",
       "      <td>a</td>\n",
       "      <td>NaN</td>\n",
       "      <td>NaN</td>\n",
       "      <td>NaN</td>\n",
       "      <td>data/raw/UTA pub...</td>\n",
       "      <td>parsing</td>\n",
       "      <td>2014</td>\n",
       "    </tr>\n",
       "    <tr>\n",
       "      <th>17</th>\n",
       "      <td>p9_b</td>\n",
       "      <td></td>\n",
       "      <td>Making a differe...</td>\n",
       "      <td>[-0.008971375413...</td>\n",
       "      <td>ok :)</td>\n",
       "      <td>p9</td>\n",
       "      <td>b</td>\n",
       "      <td>NaN</td>\n",
       "      <td>NaN</td>\n",
       "      <td>NaN</td>\n",
       "      <td>data/raw/UTA pub...</td>\n",
       "      <td>parsing</td>\n",
       "      <td>2014</td>\n",
       "    </tr>\n",
       "    <tr>\n",
       "      <th>18</th>\n",
       "      <td>p10_a</td>\n",
       "      <td>2019-06-01</td>\n",
       "      <td>Developmental co...</td>\n",
       "      <td>[-0.011259247548...</td>\n",
       "      <td>ok :)</td>\n",
       "      <td>p10</td>\n",
       "      <td>a</td>\n",
       "      <td>Developmental Co...</td>\n",
       "      <td>2019-06-01</td>\n",
       "      <td>10.1016/j.dcn.20...</td>\n",
       "      <td>data/raw/UTA pub...</td>\n",
       "      <td>parsing</td>\n",
       "      <td>2019-06-01</td>\n",
       "    </tr>\n",
       "    <tr>\n",
       "      <th>19</th>\n",
       "      <td>p10_b</td>\n",
       "      <td>2019-06-01</td>\n",
       "      <td>Introduction\\nTh...</td>\n",
       "      <td>[-0.025127930566...</td>\n",
       "      <td>ok :)</td>\n",
       "      <td>p10</td>\n",
       "      <td>b</td>\n",
       "      <td>Developmental Co...</td>\n",
       "      <td>2019-06-01</td>\n",
       "      <td>10.1016/j.dcn.20...</td>\n",
       "      <td>data/raw/UTA pub...</td>\n",
       "      <td>parsing</td>\n",
       "      <td>2019-06-01</td>\n",
       "    </tr>\n",
       "  </tbody>\n",
       "</table>\n",
       "</div>"
      ],
      "text/plain": [
       "       id    pub_date                 text           embeddings  \\\n",
       "0    p1_a              Recent studies o...  [-0.029172636568...   \n",
       "1    p1_b              Introduction\\nTh...  [-0.030077671632...   \n",
       "2    p2_a  2013-12-19  Some autistic ch...  [-0.024920951575...   \n",
       "3    p2_b  2013-12-19  Introduction\\nOn...                   []   \n",
       "4    p3_a              Fast Science is ...  [-0.015155889093...   \n",
       "5    p3_b              \\nMore Speed, Mo...  [-0.024415155872...   \n",
       "6    p4_a              One contribution...  [-0.005250494461...   \n",
       "7    p4_b              \\nDepression, sc...  [-0.025009071454...   \n",
       "8    p5_a                                                    []   \n",
       "9    p5_b              Introduction\\nWe...                   []   \n",
       "10   p6_a              Recent studies o...  [-0.029402825981...   \n",
       "11   p6_b               \\nGoldman, 2006...  [-0.021293981000...   \n",
       "12   p7_a                                                    []   \n",
       "13   p7_b              \\nUta Frith bega...                   []   \n",
       "14   p8_a  2020-10-01                                        []   \n",
       "15   p8_b  2020-10-01  \\nWe are gratefu...  [-0.021333092823...   \n",
       "16   p9_a                                                    []   \n",
       "17   p9_b              Making a differe...  [-0.008971375413...   \n",
       "18  p10_a  2019-06-01  Developmental co...  [-0.011259247548...   \n",
       "19  p10_b  2019-06-01  Introduction\\nTh...  [-0.025127930566...   \n",
       "\n",
       "                warning pub_id a_b                title        date  \\\n",
       "0                 ok :)     p1   a  Knowing me, know...         NaN   \n",
       "1                 ok :)     p1   b  Knowing me, know...         NaN   \n",
       "2                 ok :)     p2   a  Autistic adolesc...  2013-12-19   \n",
       "3   Error code: 400 ...     p2   b  Autistic adolesc...  2013-12-19   \n",
       "4                 ok :)     p3   a  Fast Lane to Slo...         NaN   \n",
       "5                 ok :)     p3   b  Fast Lane to Slo...         NaN   \n",
       "6                 ok :)     p4   a                  NaN         NaN   \n",
       "7                 ok :)     p4   b                  NaN         NaN   \n",
       "8                 empty     p5   a  Mapping Mentalis...         NaN   \n",
       "9   Error code: 400 ...     p5   b  Mapping Mentalis...         NaN   \n",
       "10                ok :)     p6   a  F o r P e e r R ...         NaN   \n",
       "11                ok :)     p6   b  F o r P e e r R ...         NaN   \n",
       "12                empty     p7   a                  NaN         NaN   \n",
       "13  Error code: 400 ...     p7   b                  NaN         NaN   \n",
       "14                empty     p8   a  Dimensional or C...  2020-10-01   \n",
       "15                ok :)     p8   b  Dimensional or C...  2020-10-01   \n",
       "16                empty     p9   a                  NaN         NaN   \n",
       "17                ok :)     p9   b                  NaN         NaN   \n",
       "18                ok :)    p10   a  Developmental Co...  2019-06-01   \n",
       "19                ok :)    p10   b  Developmental Co...  2019-06-01   \n",
       "\n",
       "                    doi                 path   source reconstructed_date  \n",
       "0   10.1177/13623613...  data/raw/UTA pub...  parsing               2020  \n",
       "1   10.1177/13623613...  data/raw/UTA pub...  parsing               2020  \n",
       "2   10.1016/j.neurop...  data/raw/UTA pub...  parsing         2013-12-19  \n",
       "3   10.1016/j.neurop...  data/raw/UTA pub...  parsing         2013-12-19  \n",
       "4   10.1016/j.tics.2...  data/raw/UTA pub...  parsing               2019  \n",
       "5   10.1016/j.tics.2...  data/raw/UTA pub...  parsing               2019  \n",
       "6   10.1098/rstb.201...  data/raw/UTA pub...  parsing               2018  \n",
       "7   10.1098/rstb.201...  data/raw/UTA pub...  parsing               2018  \n",
       "8   10.1007/978-3-03...  data/raw/UTA pub...  parsing               2021  \n",
       "9   10.1007/978-3-03...  data/raw/UTA pub...  parsing               2021  \n",
       "10  10.1016/0010-027...  data/raw/UTA pub...  parsing               2020  \n",
       "11  10.1016/0010-027...  data/raw/UTA pub...  parsing               2020  \n",
       "12                  NaN  data/raw/UTA pub...  parsing               2014  \n",
       "13                  NaN  data/raw/UTA pub...  parsing               2014  \n",
       "14  10.1007/s10803-0...  data/raw/UTA pub...  parsing         2020-10-01  \n",
       "15  10.1007/s10803-0...  data/raw/UTA pub...  parsing         2020-10-01  \n",
       "16                  NaN  data/raw/UTA pub...  parsing               2014  \n",
       "17                  NaN  data/raw/UTA pub...  parsing               2014  \n",
       "18  10.1016/j.dcn.20...  data/raw/UTA pub...  parsing         2019-06-01  \n",
       "19  10.1016/j.dcn.20...  data/raw/UTA pub...  parsing         2019-06-01  "
      ]
     },
     "execution_count": 222,
     "metadata": {},
     "output_type": "execute_result"
    }
   ],
   "source": [
    "merged_pub.head(20)"
   ]
  },
  {
   "cell_type": "code",
   "execution_count": 223,
   "metadata": {},
   "outputs": [],
   "source": [
    "# truncating warnings to allow for countng\n",
    "merged_pub['warning'] = merged_pub['warning'].str[:15]"
   ]
  },
  {
   "cell_type": "code",
   "execution_count": 224,
   "metadata": {},
   "outputs": [
    {
     "data": {
      "text/plain": [
       "warning\n",
       "ok :)              312\n",
       "empty              155\n",
       "Error code: 400     81\n",
       "Name: count, dtype: int64"
      ]
     },
     "execution_count": 224,
     "metadata": {},
     "output_type": "execute_result"
    }
   ],
   "source": [
    "# count warnings\n",
    "merged_pub.warning.value_counts()"
   ]
  },
  {
   "cell_type": "code",
   "execution_count": 225,
   "metadata": {},
   "outputs": [],
   "source": [
    "# get only the embeddings that worked\n",
    "df = merged_pub.loc[df_pub['warning'] == \"ok :)\"]"
   ]
  },
  {
   "cell_type": "code",
   "execution_count": 226,
   "metadata": {},
   "outputs": [
    {
     "data": {
      "text/plain": [
       "a_b\n",
       "b    193\n",
       "a    119\n",
       "Name: count, dtype: int64"
      ]
     },
     "execution_count": 226,
     "metadata": {},
     "output_type": "execute_result"
    }
   ],
   "source": [
    "# count number of abstract and bodies\n",
    "df.a_b.value_counts()"
   ]
  },
  {
   "cell_type": "code",
   "execution_count": 227,
   "metadata": {},
   "outputs": [
    {
     "data": {
      "text/plain": [
       "(312, 13)"
      ]
     },
     "execution_count": 227,
     "metadata": {},
     "output_type": "execute_result"
    }
   ],
   "source": [
    "df.shape"
   ]
  },
  {
   "cell_type": "code",
   "execution_count": 228,
   "metadata": {},
   "outputs": [],
   "source": [
    "# manually removing abstracts that are not abstracts \n",
    "df_clean = df[~df.text.str.startswith(\"This article\")]\n",
    "df_clean = df_clean[~df_clean.text.str.startswith(\"Role of land-surface\")]\n",
    "df_clean = df_clean[~df_clean.text.str.startswith(\"16 . The NIK gene\")]\n",
    "df_clean = df_clean[~df_clean.text.str.startswith(\"(1225 articles)\")]\n",
    "\n",
    "\n"
   ]
  },
  {
   "cell_type": "code",
   "execution_count": 229,
   "metadata": {},
   "outputs": [
    {
     "data": {
      "text/plain": [
       "(303, 13)"
      ]
     },
     "execution_count": 229,
     "metadata": {},
     "output_type": "execute_result"
    }
   ],
   "source": [
    "df_clean.shape"
   ]
  },
  {
   "cell_type": "code",
   "execution_count": 230,
   "metadata": {},
   "outputs": [],
   "source": [
    "df_clean = df_clean.sort_values(by = 'reconstructed_date')"
   ]
  },
  {
   "cell_type": "code",
   "execution_count": 231,
   "metadata": {},
   "outputs": [],
   "source": [
    "# getting cosine similarity between each abstract and article body\n",
    "distances = {}\n",
    "missing_ids = []\n",
    "\n",
    "# looping over all id's\n",
    "for id in df_clean['pub_id'].unique():\n",
    "    try:\n",
    "        # if both an abstract and body exist for that ID, calculate distance and add to dict\n",
    "        abs = df_clean[df_clean['id'] == str(id) + \"_a\"]\n",
    "        bod = df_clean[df_clean['id'] == str(id) + \"_b\"]\n",
    "        dist = cos_sim(np.array(abs['embeddings'].values.tolist()), np.array(bod['embeddings'].values.tolist()))\n",
    "        distances[id] = dist[0][0]\n",
    "    except ValueError:\n",
    "        # if either abstract or body is missing for that id, appending id to missing_ids list\n",
    "        missing_ids.append(id)\n",
    "\n",
    "    \n",
    "        "
   ]
  },
  {
   "cell_type": "code",
   "execution_count": 232,
   "metadata": {},
   "outputs": [
    {
     "data": {
      "text/plain": [
       "[]"
      ]
     },
     "execution_count": 232,
     "metadata": {},
     "output_type": "execute_result"
    }
   ],
   "source": [
    "# checking for low cosine sims – a sign of an abstract not being an abstract\n",
    "lows = [k for k, v in distances.items() if v < 0.80]\n",
    "\n",
    "lows"
   ]
  },
  {
   "cell_type": "code",
   "execution_count": 233,
   "metadata": {},
   "outputs": [],
   "source": [
    "# seeing which texts are low\n",
    "for pub in lows:\n",
    "    print(publications.loc[publications['id'] == pub+'_a', ['text']] )\n"
   ]
  },
  {
   "cell_type": "code",
   "execution_count": 234,
   "metadata": {},
   "outputs": [
    {
     "data": {
      "text/plain": [
       "145"
      ]
     },
     "execution_count": 234,
     "metadata": {},
     "output_type": "execute_result"
    }
   ],
   "source": [
    "len(missing_ids)"
   ]
  },
  {
   "cell_type": "code",
   "execution_count": 235,
   "metadata": {},
   "outputs": [
    {
     "data": {
      "text/plain": [
       "79"
      ]
     },
     "execution_count": 235,
     "metadata": {},
     "output_type": "execute_result"
    }
   ],
   "source": [
    "len(distances)\n"
   ]
  },
  {
   "cell_type": "code",
   "execution_count": 236,
   "metadata": {},
   "outputs": [],
   "source": [
    "# making the distnaces dict into a df\n",
    "ab_bod_df = pd.DataFrame.from_dict(distances, orient='Index', columns=['cos_sim'])"
   ]
  },
  {
   "cell_type": "code",
   "execution_count": 237,
   "metadata": {},
   "outputs": [
    {
     "data": {
      "text/plain": [
       "Index(['cos_sim'], dtype='object')"
      ]
     },
     "execution_count": 237,
     "metadata": {},
     "output_type": "execute_result"
    }
   ],
   "source": [
    "ab_bod_df.columns"
   ]
  },
  {
   "cell_type": "code",
   "execution_count": 238,
   "metadata": {},
   "outputs": [],
   "source": [
    "ab_bod_df = ab_bod_df.reset_index().rename(columns={'index': 'pub_id'})"
   ]
  },
  {
   "cell_type": "code",
   "execution_count": 239,
   "metadata": {},
   "outputs": [],
   "source": [
    "ab_bod_df = ab_bod_df.merge(meta, on = 'pub_id')"
   ]
  },
  {
   "cell_type": "code",
   "execution_count": 240,
   "metadata": {},
   "outputs": [
    {
     "data": {
      "text/html": [
       "<div>\n",
       "<style scoped>\n",
       "    .dataframe tbody tr th:only-of-type {\n",
       "        vertical-align: middle;\n",
       "    }\n",
       "\n",
       "    .dataframe tbody tr th {\n",
       "        vertical-align: top;\n",
       "    }\n",
       "\n",
       "    .dataframe thead th {\n",
       "        text-align: right;\n",
       "    }\n",
       "</style>\n",
       "<table border=\"1\" class=\"dataframe\">\n",
       "  <thead>\n",
       "    <tr style=\"text-align: right;\">\n",
       "      <th></th>\n",
       "      <th>pub_id</th>\n",
       "      <th>cos_sim</th>\n",
       "      <th>title</th>\n",
       "      <th>date</th>\n",
       "      <th>doi</th>\n",
       "      <th>path</th>\n",
       "      <th>source</th>\n",
       "      <th>reconstructed_date</th>\n",
       "    </tr>\n",
       "  </thead>\n",
       "  <tbody>\n",
       "    <tr>\n",
       "      <th>0</th>\n",
       "      <td>p74</td>\n",
       "      <td>0.883444</td>\n",
       "      <td>STUDIES IN PATTE...</td>\n",
       "      <td>NaN</td>\n",
       "      <td>NaN</td>\n",
       "      <td>data/raw/UTA pub...</td>\n",
       "      <td>parsing</td>\n",
       "      <td>1970</td>\n",
       "    </tr>\n",
       "    <tr>\n",
       "      <th>1</th>\n",
       "      <td>p92</td>\n",
       "      <td>0.936929</td>\n",
       "      <td>Other minds in t...</td>\n",
       "      <td>NaN</td>\n",
       "      <td>NaN</td>\n",
       "      <td>data/raw/UTA pub...</td>\n",
       "      <td>parsing</td>\n",
       "      <td>1995</td>\n",
       "    </tr>\n",
       "    <tr>\n",
       "      <th>2</th>\n",
       "      <td>p29</td>\n",
       "      <td>0.947132</td>\n",
       "      <td>Specific cogniti...</td>\n",
       "      <td>NaN</td>\n",
       "      <td>NaN</td>\n",
       "      <td>data/raw/UTA pub...</td>\n",
       "      <td>parsing</td>\n",
       "      <td>1998</td>\n",
       "    </tr>\n",
       "    <tr>\n",
       "      <th>3</th>\n",
       "      <td>p32</td>\n",
       "      <td>0.956959</td>\n",
       "      <td>Identifying Dysl...</td>\n",
       "      <td>NaN</td>\n",
       "      <td>NaN</td>\n",
       "      <td>data/raw/UTA pub...</td>\n",
       "      <td>parsing</td>\n",
       "      <td>1998</td>\n",
       "    </tr>\n",
       "    <tr>\n",
       "      <th>4</th>\n",
       "      <td>p28</td>\n",
       "      <td>0.880196</td>\n",
       "      <td>What autism teac...</td>\n",
       "      <td>NaN</td>\n",
       "      <td>NaN</td>\n",
       "      <td>data/raw/UTA pub...</td>\n",
       "      <td>parsing</td>\n",
       "      <td>1998</td>\n",
       "    </tr>\n",
       "    <tr>\n",
       "      <th>...</th>\n",
       "      <td>...</td>\n",
       "      <td>...</td>\n",
       "      <td>...</td>\n",
       "      <td>...</td>\n",
       "      <td>...</td>\n",
       "      <td>...</td>\n",
       "      <td>...</td>\n",
       "      <td>...</td>\n",
       "    </tr>\n",
       "    <tr>\n",
       "      <th>74</th>\n",
       "      <td>p3</td>\n",
       "      <td>0.904754</td>\n",
       "      <td>Fast Lane to Slo...</td>\n",
       "      <td>NaN</td>\n",
       "      <td>10.1016/j.tics.2...</td>\n",
       "      <td>data/raw/UTA pub...</td>\n",
       "      <td>parsing</td>\n",
       "      <td>2019</td>\n",
       "    </tr>\n",
       "    <tr>\n",
       "      <th>75</th>\n",
       "      <td>p10</td>\n",
       "      <td>0.898964</td>\n",
       "      <td>Developmental Co...</td>\n",
       "      <td>2019-06-01</td>\n",
       "      <td>10.1016/j.dcn.20...</td>\n",
       "      <td>data/raw/UTA pub...</td>\n",
       "      <td>parsing</td>\n",
       "      <td>2019-06-01</td>\n",
       "    </tr>\n",
       "    <tr>\n",
       "      <th>76</th>\n",
       "      <td>p1</td>\n",
       "      <td>0.935279</td>\n",
       "      <td>Knowing me, know...</td>\n",
       "      <td>NaN</td>\n",
       "      <td>10.1177/13623613...</td>\n",
       "      <td>data/raw/UTA pub...</td>\n",
       "      <td>parsing</td>\n",
       "      <td>2020</td>\n",
       "    </tr>\n",
       "    <tr>\n",
       "      <th>77</th>\n",
       "      <td>p120</td>\n",
       "      <td>0.900449</td>\n",
       "      <td>Teaching in 2020...</td>\n",
       "      <td>NaN</td>\n",
       "      <td>10.1080/02607470...</td>\n",
       "      <td>data/raw/UTA pub...</td>\n",
       "      <td>parsing</td>\n",
       "      <td>2020</td>\n",
       "    </tr>\n",
       "    <tr>\n",
       "      <th>78</th>\n",
       "      <td>p6</td>\n",
       "      <td>0.929144</td>\n",
       "      <td>F o r P e e r R ...</td>\n",
       "      <td>NaN</td>\n",
       "      <td>10.1016/0010-027...</td>\n",
       "      <td>data/raw/UTA pub...</td>\n",
       "      <td>parsing</td>\n",
       "      <td>2020</td>\n",
       "    </tr>\n",
       "  </tbody>\n",
       "</table>\n",
       "<p>79 rows × 8 columns</p>\n",
       "</div>"
      ],
      "text/plain": [
       "   pub_id   cos_sim                title        date                  doi  \\\n",
       "0     p74  0.883444  STUDIES IN PATTE...         NaN                  NaN   \n",
       "1     p92  0.936929  Other minds in t...         NaN                  NaN   \n",
       "2     p29  0.947132  Specific cogniti...         NaN                  NaN   \n",
       "3     p32  0.956959  Identifying Dysl...         NaN                  NaN   \n",
       "4     p28  0.880196  What autism teac...         NaN                  NaN   \n",
       "..    ...       ...                  ...         ...                  ...   \n",
       "74     p3  0.904754  Fast Lane to Slo...         NaN  10.1016/j.tics.2...   \n",
       "75    p10  0.898964  Developmental Co...  2019-06-01  10.1016/j.dcn.20...   \n",
       "76     p1  0.935279  Knowing me, know...         NaN  10.1177/13623613...   \n",
       "77   p120  0.900449  Teaching in 2020...         NaN  10.1080/02607470...   \n",
       "78     p6  0.929144  F o r P e e r R ...         NaN  10.1016/0010-027...   \n",
       "\n",
       "                   path   source reconstructed_date  \n",
       "0   data/raw/UTA pub...  parsing               1970  \n",
       "1   data/raw/UTA pub...  parsing               1995  \n",
       "2   data/raw/UTA pub...  parsing               1998  \n",
       "3   data/raw/UTA pub...  parsing               1998  \n",
       "4   data/raw/UTA pub...  parsing               1998  \n",
       "..                  ...      ...                ...  \n",
       "74  data/raw/UTA pub...  parsing               2019  \n",
       "75  data/raw/UTA pub...  parsing         2019-06-01  \n",
       "76  data/raw/UTA pub...  parsing               2020  \n",
       "77  data/raw/UTA pub...  parsing               2020  \n",
       "78  data/raw/UTA pub...  parsing               2020  \n",
       "\n",
       "[79 rows x 8 columns]"
      ]
     },
     "execution_count": 240,
     "metadata": {},
     "output_type": "execute_result"
    }
   ],
   "source": [
    "ab_bod_df"
   ]
  },
  {
   "cell_type": "code",
   "execution_count": 241,
   "metadata": {},
   "outputs": [],
   "source": [
    "def generate_xticks(df):\n",
    "    # flag indices, where the next element is different\n",
    "    yr_switches = np.diff(df[\"year\"])\n",
    "    # add last element\n",
    "    yr_switches = np.append(0, yr_switches)\n",
    "    # convert to bool\n",
    "    yr_switches = np.array(yr_switches, dtype=bool)\n",
    "\n",
    "    # get index (x-axis) and year variables (x-axis label)\n",
    "    sig_index = np.array(df.index)\n",
    "    sig_year = np.array(df[\"year\"])\n",
    "\n",
    "    # mark changes in year\n",
    "    xticks_idx = sig_index[yr_switches]\n",
    "    xticks_label = sig_year[yr_switches]\n",
    "\n",
    "    return xticks_idx, xticks_label\n",
    "\n"
   ]
  },
  {
   "cell_type": "code",
   "execution_count": 242,
   "metadata": {},
   "outputs": [
    {
     "data": {
      "image/png": "[encoded data removed]",
      "text/plain": [
       "<Figure size 640x480 with 1 Axes>"
      ]
     },
     "metadata": {},
     "output_type": "display_data"
    }
   ],
   "source": [
    "# plotting over the years \n",
    "\n",
    "# extract just the year\n",
    "ab_bod_df['year'] = [funk.year for funk in pd.to_datetime(ab_bod_df['reconstructed_date'], format='mixed')]\n",
    "# flag indices, where the next element is different (those are the tick labels you want to show on the x axis)\n",
    "xticks_idx, xticks_label = generate_xticks(ab_bod_df.reset_index())\n",
    "\n",
    "\n",
    "# creating\n",
    "x = range(len(ab_bod_df))\n",
    "y1 = list(ab_bod_df['cos_sim'])\n",
    "\n",
    "plt.plot(x, y1, label ='y1')\n",
    "\n",
    "# modifying xticks\n",
    "values_to_hide = [1998,2010,2013,2019]\n",
    "modified_labels = ['' if i in values_to_hide else i for i in xticks_label]\n",
    "\n",
    "# set xticks\n",
    "plt.xticks(ticks=xticks_idx, labels=modified_labels, rotation = 50)\n",
    "# saving\n",
    "plt.savefig('abstracts_exp.png')\n",
    "# showing\n",
    "plt.show()\n"
   ]
  },
  {
   "cell_type": "code",
   "execution_count": null,
   "metadata": {},
   "outputs": [],
   "source": []
  },
  {
   "attachments": {},
   "cell_type": "markdown",
   "metadata": {},
   "source": [
    "## Pairwise cosine sim for abstracts and bodies"
   ]
  },
  {
   "cell_type": "code",
   "execution_count": 243,
   "metadata": {},
   "outputs": [],
   "source": [
    "abs = df_clean.loc[df_clean['id'].str.endswith('_a')]\n",
    "bods = df_clean.loc[df_clean['id'].str.endswith('_b')]"
   ]
  },
  {
   "cell_type": "code",
   "execution_count": 244,
   "metadata": {},
   "outputs": [
    {
     "data": {
      "text/plain": [
       "(110, 13)"
      ]
     },
     "execution_count": 244,
     "metadata": {},
     "output_type": "execute_result"
    }
   ],
   "source": [
    "abs.shape"
   ]
  },
  {
   "cell_type": "code",
   "execution_count": 245,
   "metadata": {},
   "outputs": [
    {
     "data": {
      "text/plain": [
       "(193, 13)"
      ]
     },
     "execution_count": 245,
     "metadata": {},
     "output_type": "execute_result"
    }
   ],
   "source": [
    "bods.shape"
   ]
  },
  {
   "cell_type": "code",
   "execution_count": 246,
   "metadata": {},
   "outputs": [],
   "source": [
    "abs_cos_sim = cosine_similarity([np.array(embed) for embed in abs['embeddings']])\n",
    "\n",
    "bods_cos_sim = cosine_similarity([np.array(embed) for embed in bods['embeddings']])\n",
    "\n",
    "full_cos_sim = cosine_similarity([np.array(embed) for embed in bods['embeddings']], [np.array(embed) for embed in abs['embeddings']])"
   ]
  },
  {
   "cell_type": "code",
   "execution_count": null,
   "metadata": {},
   "outputs": [],
   "source": []
  },
  {
   "cell_type": "code",
   "execution_count": 247,
   "metadata": {},
   "outputs": [
    {
     "data": {
      "text/plain": [
       "{'abs': {'range': 0.31608431140581783,\n",
       "  'mean': 0.8164844640182888,\n",
       "  'std': 0.04530060000175215,\n",
       "  'max': 1.0000000000000013,\n",
       "  'min': 0.6839156885941835,\n",
       "  'quantile_25': 0.787867129795495,\n",
       "  'quantile_50': 0.8140322471787886,\n",
       "  'quantile_75': 0.8431261236558691},\n",
       " 'bods': {'range': 0.34300445045560124,\n",
       "  'mean': 0.8317992116644277,\n",
       "  'std': 0.042910495012587306,\n",
       "  'max': 1.0000000000000024,\n",
       "  'min': 0.6569955495444012,\n",
       "  'quantile_25': 0.8042089974008602,\n",
       "  'quantile_50': 0.8307622121093561,\n",
       "  'quantile_75': 0.8589608072816215},\n",
       " 'full': {'range': 0.3244857651450467,\n",
       "  'mean': 0.8069094790792873,\n",
       "  'std': 0.04132735861592324,\n",
       "  'max': 0.9698363475499375,\n",
       "  'min': 0.6453505824048908,\n",
       "  'quantile_25': 0.7791294098335044,\n",
       "  'quantile_50': 0.8050892373558376,\n",
       "  'quantile_75': 0.8334282022437997},\n",
       " 'abs_bods': {'range': 0.16838219167061386,\n",
       "  'mean': 0.9248331749403953,\n",
       "  'std': 0.02956829035420896,\n",
       "  'max': 0.9698363475499373,\n",
       "  'min': 0.8014541558793234,\n",
       "  'quantile_25': 0.9162455212809836,\n",
       "  'quantile_50': 0.9336345688758335,\n",
       "  'quantile_75': 0.944376298949562}}"
      ]
     },
     "execution_count": 247,
     "metadata": {},
     "output_type": "execute_result"
    }
   ],
   "source": [
    "descriptive_stats = {}\n",
    "\n",
    "arrays = {'abs':abs_cos_sim, 'bods':bods_cos_sim, 'full':full_cos_sim, 'abs_bods': np.array(ab_bod_df['cos_sim'])}\n",
    "\n",
    "for array, values in arrays.items():\n",
    "    temp = {\n",
    "        'range': np.ptp(values),\n",
    "        'mean': np.mean(values),\n",
    "        'std': np.std(values),\n",
    "        'max': np.max(values),\n",
    "        'min': np.min(values),\n",
    "        'quantile_25': np.quantile(values, 0.25),\n",
    "        'quantile_50': np.quantile(values, 0.50),\n",
    "        'quantile_75': np.quantile(values, 0.75),\n",
    "    }\n",
    "\n",
    "    descriptive_stats[array] = temp\n",
    "\n",
    "descriptive_stats\n"
   ]
  }
 ],
 "metadata": {
  "kernelspec": {
   "display_name": ".venv",
   "language": "python",
   "name": "python3"
  },
  "language_info": {
   "codemirror_mode": {
    "name": "ipython",
    "version": 3
   },
   "file_extension": ".py",
   "mimetype": "text/x-python",
   "name": "python",
   "nbconvert_exporter": "python",
   "pygments_lexer": "ipython3",
   "version": "3.10.12"
  }
 },
 "nbformat": 4,
 "nbformat_minor": 2
}
