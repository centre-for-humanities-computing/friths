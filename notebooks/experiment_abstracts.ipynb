{
 "cells": [
  {
   "cell_type": "code",
   "execution_count": null,
   "metadata": {},
   "outputs": [],
   "source": [
    "import os\n",
    "import numpy as np\n",
    "import pandas as pd\n",
    "from datasets import load_from_disk\n",
    "\n",
    "from infodynamics.metrics import cos_sim, js_dist\n",
    "\n",
    "\n",
    "DATA_PROCESSED = '../data/processed/'\n",
    "DATA_INTERIM = '../data/interim/'"
   ]
  },
  {
   "cell_type": "code",
   "execution_count": null,
   "metadata": {},
   "outputs": [],
   "source": [
    "# publications = load_from_disk(os.path.join(DATA_PROCESSED, 'publications'))\n",
    "publications = load_from_disk(os.path.join(DATA_PROCESSED, 'tmp_abstracts'))\n",
    "publications['doc_id'] = publications.map(lambda x: x['id'].split('_')[0])"
   ]
  },
  {
   "cell_type": "code",
   "execution_count": null,
   "metadata": {},
   "outputs": [],
   "source": [
    "distances = []\n",
    "for i in publications['doc_id']:\n",
    "    abs = publications.filter(lambda x: x['id'] == str(i) + \"_a\")\n",
    "    bod = publications.filter(lambda x: x['id'] == str(i) + \"_b\")\n",
    "    dist = cos_sim(\n",
    "        np.array(abs['embedding']), \n",
    "        np.array(bod['embedding'])\n",
    "        )\n",
    "    distances.append(dist)"
   ]
  },
  {
   "cell_type": "code",
   "execution_count": null,
   "metadata": {},
   "outputs": [],
   "source": [
    "meta = pd.read_csv(os.path.join(DATA_INTERIM, 'publications_meta.csv'))\n",
    "meta['distance'] = distances\n",
    "meta['distance'].plot()"
   ]
  },
  {
   "cell_type": "code",
   "execution_count": null,
   "metadata": {},
   "outputs": [],
   "source": []
  }
 ],
 "metadata": {
  "kernelspec": {
   "display_name": ".venv",
   "language": "python",
   "name": "python3"
  },
  "language_info": {
   "codemirror_mode": {
    "name": "ipython",
    "version": 3
   },
   "file_extension": ".py",
   "mimetype": "text/x-python",
   "name": "python",
   "nbconvert_exporter": "python",
   "pygments_lexer": "ipython3",
   "version": "3.11.6"
  }
 },
 "nbformat": 4,
 "nbformat_minor": 2
}
