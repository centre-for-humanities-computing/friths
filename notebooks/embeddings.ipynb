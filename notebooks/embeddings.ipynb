{
 "cells": [
  {
   "cell_type": "code",
   "execution_count": 55,
   "metadata": {},
   "outputs": [],
   "source": [
    "import json\n",
    "import pandas as pd\n",
    "import numpy as np\n",
    "from tqdm import tqdm\n",
    "\n",
    "from src.dataset.util import load_iterim_publications, load_publication_paths, IDGenerator\n",
    "from src.features.openai_emb import log_in_to_api, generate_embeddings"
   ]
  },
  {
   "cell_type": "code",
   "execution_count": 56,
   "metadata": {},
   "outputs": [],
   "source": [
    "pub = load_iterim_publications()\n",
    "meta = pd.read_csv('../data/interim/publications_meta.csv')"
   ]
  },
  {
   "cell_type": "code",
   "execution_count": 57,
   "metadata": {},
   "outputs": [
    {
     "name": "stderr",
     "output_type": "stream",
     "text": [
      "100%|██████████| 154/154 [00:00<00:00, 35872.64it/s]\n"
     ]
    }
   ],
   "source": [
    "docs = []\n",
    "\n",
    "for article in tqdm(pub):\n",
    "    # initialize a new id gen for each article\n",
    "    id_gen = IDGenerator()\n",
    "    # process abstract\n",
    "    docs.append({\n",
    "        'id': str(article['id']) + '_a',\n",
    "        'text': article['abstract'],\n",
    "        'heading': np.nan,\n",
    "        'n_publication_ref': np.nan,\n",
    "        'n_figure_ref': np.nan\n",
    "    })\n",
    "    # process body\n",
    "    for section in article['sections']:\n",
    "        docs.append({\n",
    "            'id': str(article['id']) + '_' + str(id_gen.generate_id()),\n",
    "            'text': section['heading'] + \" \" + section['text'],\n",
    "            'heading': section['heading'].lower(),\n",
    "            'n_publication_ref': section['n_publication_ref'],\n",
    "            'n_figure_ref': section['n_figure_ref']\n",
    "        })"
   ]
  },
  {
   "cell_type": "code",
   "execution_count": 58,
   "metadata": {},
   "outputs": [
    {
     "name": "stdout",
     "output_type": "stream",
     "text": [
      "<class 'pandas.core.frame.DataFrame'>\n",
      "RangeIndex: 2165 entries, 0 to 2164\n",
      "Data columns (total 5 columns):\n",
      " #   Column             Non-Null Count  Dtype  \n",
      "---  ------             --------------  -----  \n",
      " 0   id                 2165 non-null   object \n",
      " 1   text               2130 non-null   object \n",
      " 2   heading            1922 non-null   object \n",
      " 3   n_publication_ref  2011 non-null   float64\n",
      " 4   n_figure_ref       2011 non-null   float64\n",
      "dtypes: float64(2), object(3)\n",
      "memory usage: 84.7+ KB\n"
     ]
    }
   ],
   "source": [
    "df = pd.DataFrame(docs).replace('', np.nan)\n",
    "df.info()"
   ]
  },
  {
   "cell_type": "markdown",
   "metadata": {},
   "source": [
    "### explore headings"
   ]
  },
  {
   "cell_type": "code",
   "execution_count": 5,
   "metadata": {},
   "outputs": [
    {
     "data": {
      "text/plain": [
       "heading\n",
       "results                   67\n",
       "discussion                67\n",
       "introduction              58\n",
       "acknowledgements          31\n",
       "method                    29\n",
       "procedure                 27\n",
       "participants              25\n",
       "acknowledgments           24\n",
       "conclusions               22\n",
       "data analysis             18\n",
       "methods                   17\n",
       "results and discussion    10\n",
       "2ss                       10\n",
       "conclusion                10\n",
       "article in press           9\n",
       "general discussion         8\n",
       "materials and methods      8\n",
       "literacy tests             8\n",
       "method participants        8\n",
       "2os                        7\n",
       "Name: count, dtype: int64"
      ]
     },
     "execution_count": 5,
     "metadata": {},
     "output_type": "execute_result"
    }
   ],
   "source": [
    "df.groupby('heading')['heading'].value_counts().sort_values(ascending=False).head(20)"
   ]
  },
  {
   "cell_type": "code",
   "execution_count": 6,
   "metadata": {},
   "outputs": [
    {
     "data": {
      "text/plain": [
       "heading\n",
       "experiment ii                                                                    1\n",
       "experiment time course                                                           1\n",
       "experimental conditions compared with baseline                                   1\n",
       "experimental in6estigation                                                       1\n",
       "experimental investigation                                                       1\n",
       "experimental paradigm and procedure                                              1\n",
       "experimental procedure                                                           1\n",
       "experimental procedures participants                                             1\n",
       "experimental task design                                                         1\n",
       "experimental tasks                                                               1\n",
       "experimental tests                                                               1\n",
       "explicit processes in social cognition and their mechanisms                      1\n",
       "extracting meaning from social signals                                           1\n",
       "eye gaze measures                                                                1\n",
       "eye movement measures                                                            1\n",
       "f                                                                                1\n",
       "facial features in unfamiliar faces                                              1\n",
       "fairness and justice                                                             1\n",
       "false beliefs                                                                    1\n",
       "you once described autistic children as being like the ones in john wyndham's    1\n",
       "Name: count, dtype: int64"
      ]
     },
     "execution_count": 6,
     "metadata": {},
     "output_type": "execute_result"
    }
   ],
   "source": [
    "df.groupby('heading')['heading'].value_counts().sort_values(ascending=False).tail(20)"
   ]
  },
  {
   "cell_type": "markdown",
   "metadata": {},
   "source": [
    "### get some embeddigns"
   ]
  },
  {
   "cell_type": "code",
   "execution_count": 6,
   "metadata": {},
   "outputs": [],
   "source": [
    "client = log_in_to_api(secrets_path='../secrets.json')"
   ]
  },
  {
   "cell_type": "code",
   "execution_count": 43,
   "metadata": {},
   "outputs": [],
   "source": [
    "abstracts = df[df['id'].str.contains('a')]\n",
    "abstracts = abstracts.dropna(subset=['text'])"
   ]
  },
  {
   "cell_type": "code",
   "execution_count": 34,
   "metadata": {},
   "outputs": [],
   "source": [
    "embeddings = np.array(a)"
   ]
  },
  {
   "cell_type": "code",
   "execution_count": 35,
   "metadata": {},
   "outputs": [],
   "source": [
    "np.save('../data/processed/tmp_abstract_embeddings.npy', embeddings)"
   ]
  },
  {
   "cell_type": "markdown",
   "metadata": {},
   "source": [
    "### analyze embs"
   ]
  },
  {
   "cell_type": "code",
   "execution_count": 59,
   "metadata": {},
   "outputs": [],
   "source": [
    "abstracts = df[df['id'].str.contains('a')]\n",
    "abstracts = abstracts.dropna(subset=['text'])\n",
    "\n",
    "abstracts = abstracts.rename({'id': 'txt_id'}, axis=1)\n",
    "abstracts['id'] = abstracts['txt_id'].str.split('_').str[0]\n",
    "abstracts = pd.merge(abstracts, meta, left_on='id', right_on='id', how='left')"
   ]
  },
  {
   "cell_type": "code",
   "execution_count": 62,
   "metadata": {},
   "outputs": [
    {
     "data": {
      "text/html": [
       "<div>\n",
       "<style scoped>\n",
       "    .dataframe tbody tr th:only-of-type {\n",
       "        vertical-align: middle;\n",
       "    }\n",
       "\n",
       "    .dataframe tbody tr th {\n",
       "        vertical-align: top;\n",
       "    }\n",
       "\n",
       "    .dataframe thead th {\n",
       "        text-align: right;\n",
       "    }\n",
       "</style>\n",
       "<table border=\"1\" class=\"dataframe\">\n",
       "  <thead>\n",
       "    <tr style=\"text-align: right;\">\n",
       "      <th></th>\n",
       "      <th>txt_id</th>\n",
       "      <th>text</th>\n",
       "      <th>heading</th>\n",
       "      <th>n_publication_ref</th>\n",
       "      <th>n_figure_ref</th>\n",
       "      <th>id</th>\n",
       "      <th>title</th>\n",
       "      <th>date</th>\n",
       "      <th>doi</th>\n",
       "      <th>abstract</th>\n",
       "      <th>first_section</th>\n",
       "      <th>path</th>\n",
       "      <th>reconstructed_date</th>\n",
       "      <th>year</th>\n",
       "    </tr>\n",
       "  </thead>\n",
       "  <tbody>\n",
       "    <tr>\n",
       "      <th>0</th>\n",
       "      <td>p1_a</td>\n",
       "      <td>This article may be used for research, teachin...</td>\n",
       "      <td>NaN</td>\n",
       "      <td>NaN</td>\n",
       "      <td>NaN</td>\n",
       "      <td>p1</td>\n",
       "      <td>Animated triangles: An eye tracking investigation</td>\n",
       "      <td>2008-12-10</td>\n",
       "      <td>10.1080/17470210802384214</td>\n",
       "      <td>This article may be used for research, teachin...</td>\n",
       "      <td>{'heading': '', 'text': 'In their classic work...</td>\n",
       "      <td>data/raw/UF Papers 2007-2008 copy/Klein Zwicke...</td>\n",
       "      <td>2008-12-10</td>\n",
       "      <td>2008</td>\n",
       "    </tr>\n",
       "    <tr>\n",
       "      <th>1</th>\n",
       "      <td>p2_a</td>\n",
       "      <td>It is striking that in the short history of so...</td>\n",
       "      <td>NaN</td>\n",
       "      <td>NaN</td>\n",
       "      <td>NaN</td>\n",
       "      <td>p2</td>\n",
       "      <td>Implicit and explicit processes in social cogn...</td>\n",
       "      <td>2008-11-06</td>\n",
       "      <td>10.1016/j.neuron.2008.10.032</td>\n",
       "      <td>It is striking that in the short history of so...</td>\n",
       "      <td>{'heading': 'Introduction', 'text': 'Research ...</td>\n",
       "      <td>data/raw/UF Papers 2007-2008 copy/F&amp;F Preprint...</td>\n",
       "      <td>2008-11-06</td>\n",
       "      <td>2008</td>\n",
       "    </tr>\n",
       "    <tr>\n",
       "      <th>2</th>\n",
       "      <td>p3_a</td>\n",
       "      <td>La lettura è un'attività cognitiva che pervade...</td>\n",
       "      <td>NaN</td>\n",
       "      <td>NaN</td>\n",
       "      <td>NaN</td>\n",
       "      <td>p3</td>\n",
       "      <td>EFFETTI CULTURALI NELLA LETTURA IN SOGGETTI NO...</td>\n",
       "      <td>NaN</td>\n",
       "      <td>NaN</td>\n",
       "      <td>La lettura è un'attività cognitiva che pervade...</td>\n",
       "      <td>{'heading': '', 'text': \"lare, più di 1000 com...</td>\n",
       "      <td>data/raw/UF Papers 2007-2008 copy/Italian-Chap...</td>\n",
       "      <td>2007</td>\n",
       "      <td>2007</td>\n",
       "    </tr>\n",
       "    <tr>\n",
       "      <th>3</th>\n",
       "      <td>p4_a</td>\n",
       "      <td>Role of land-surface changes in arctic summer ...</td>\n",
       "      <td>NaN</td>\n",
       "      <td>NaN</td>\n",
       "      <td>NaN</td>\n",
       "      <td>p4</td>\n",
       "      <td>Can autistic children predict behavior by soci...</td>\n",
       "      <td>NaN</td>\n",
       "      <td>NaN</td>\n",
       "      <td>Role of land-surface changes in arctic summer ...</td>\n",
       "      <td>{'heading': '', 'text': 'Lawrence Hirschfeld 1...</td>\n",
       "      <td>data/raw/UF Papers 2007-2008 copy/Hirschfeld S...</td>\n",
       "      <td>2007</td>\n",
       "      <td>2007</td>\n",
       "    </tr>\n",
       "    <tr>\n",
       "      <th>4</th>\n",
       "      <td>p5_a</td>\n",
       "      <td>Background. We measured psychopathic traits in...</td>\n",
       "      <td>NaN</td>\n",
       "      <td>NaN</td>\n",
       "      <td>NaN</td>\n",
       "      <td>p5</td>\n",
       "      <td>Autism spectrum disorder and psychopathy : sha...</td>\n",
       "      <td>NaN</td>\n",
       "      <td>10.1017/S0033291706008853</td>\n",
       "      <td>Background. We measured psychopathic traits in...</td>\n",
       "      <td>{'heading': 'INTRODUCTION', 'text': \"Hans Aspe...</td>\n",
       "      <td>data/raw/UF Papers 2007-2008 copy/Rogers Vidin...</td>\n",
       "      <td>2007</td>\n",
       "      <td>2007</td>\n",
       "    </tr>\n",
       "    <tr>\n",
       "      <th>...</th>\n",
       "      <td>...</td>\n",
       "      <td>...</td>\n",
       "      <td>...</td>\n",
       "      <td>...</td>\n",
       "      <td>...</td>\n",
       "      <td>...</td>\n",
       "      <td>...</td>\n",
       "      <td>...</td>\n",
       "      <td>...</td>\n",
       "      <td>...</td>\n",
       "      <td>...</td>\n",
       "      <td>...</td>\n",
       "      <td>...</td>\n",
       "      <td>...</td>\n",
       "    </tr>\n",
       "    <tr>\n",
       "      <th>114</th>\n",
       "      <td>p145_a</td>\n",
       "      <td>Fast Science is bad for scientists and bad for...</td>\n",
       "      <td>NaN</td>\n",
       "      <td>NaN</td>\n",
       "      <td>NaN</td>\n",
       "      <td>p145</td>\n",
       "      <td>Fast Lane to Slow Science</td>\n",
       "      <td>NaN</td>\n",
       "      <td>10.1016/j.tics.2019.10.007</td>\n",
       "      <td>Fast Science is bad for scientists and bad for...</td>\n",
       "      <td>{'heading': '', 'text': \"More Speed, More Hast...</td>\n",
       "      <td>data/raw/UF papers 2014 - 2021 copy/Fast Lane ...</td>\n",
       "      <td>2019</td>\n",
       "      <td>2019</td>\n",
       "    </tr>\n",
       "    <tr>\n",
       "      <th>115</th>\n",
       "      <td>p146_a</td>\n",
       "      <td>One contribution of 16 to a discussion meeting...</td>\n",
       "      <td>NaN</td>\n",
       "      <td>NaN</td>\n",
       "      <td>NaN</td>\n",
       "      <td>p146</td>\n",
       "      <td>NaN</td>\n",
       "      <td>NaN</td>\n",
       "      <td>10.1098/rstb.2017.0361</td>\n",
       "      <td>One contribution of 16 to a discussion meeting...</td>\n",
       "      <td>{'heading': '', 'text': \"Depression, schizophr...</td>\n",
       "      <td>data/raw/UF papers 2014 - 2021 copy/UF Preface...</td>\n",
       "      <td>2018</td>\n",
       "      <td>2018</td>\n",
       "    </tr>\n",
       "    <tr>\n",
       "      <th>116</th>\n",
       "      <td>p148_a</td>\n",
       "      <td>Recent studies on mentalizing have shown that ...</td>\n",
       "      <td>NaN</td>\n",
       "      <td>NaN</td>\n",
       "      <td>NaN</td>\n",
       "      <td>p148</td>\n",
       "      <td>F o r P e e r R e v i e w Knowing Me, Knowing ...</td>\n",
       "      <td>NaN</td>\n",
       "      <td>10.1016/0010-0277(85)90022-8</td>\n",
       "      <td>Recent studies on mentalizing have shown that ...</td>\n",
       "      <td>{'heading': ' ', 'text': 'Goldman, 2006;\\nGopn...</td>\n",
       "      <td>data/raw/UF papers 2014 - 2021 copy/Zinck et a...</td>\n",
       "      <td>2020</td>\n",
       "      <td>2020</td>\n",
       "    </tr>\n",
       "    <tr>\n",
       "      <th>117</th>\n",
       "      <td>p152_a</td>\n",
       "      <td>Developmental cognitive neuroscience is flouri...</td>\n",
       "      <td>NaN</td>\n",
       "      <td>NaN</td>\n",
       "      <td>NaN</td>\n",
       "      <td>p152</td>\n",
       "      <td>Developmental Cognitive Neuroscience</td>\n",
       "      <td>2019-06-01</td>\n",
       "      <td>10.1016/j.dcn.2019.100669</td>\n",
       "      <td>Developmental cognitive neuroscience is flouri...</td>\n",
       "      <td>{'heading': 'Introduction', 'text': 'The Flux ...</td>\n",
       "      <td>data/raw/UF papers 2014 - 2021 copy/UF Flux of...</td>\n",
       "      <td>2019-06-01</td>\n",
       "      <td>2019</td>\n",
       "    </tr>\n",
       "    <tr>\n",
       "      <th>118</th>\n",
       "      <td>p154_a</td>\n",
       "      <td>The concept of autism is a significant contrib...</td>\n",
       "      <td>NaN</td>\n",
       "      <td>NaN</td>\n",
       "      <td>NaN</td>\n",
       "      <td>p154</td>\n",
       "      <td>Annual Research Review: Looking back to look f...</td>\n",
       "      <td>2019-11-12</td>\n",
       "      <td>10.1111/jcpp.13176</td>\n",
       "      <td>The concept of autism is a significant contrib...</td>\n",
       "      <td>{'heading': 'Introduction', 'text': \"Just over...</td>\n",
       "      <td>data/raw/UF papers 2014 - 2021 copy/Happé&amp;Frit...</td>\n",
       "      <td>2019-11-12</td>\n",
       "      <td>2019</td>\n",
       "    </tr>\n",
       "  </tbody>\n",
       "</table>\n",
       "<p>119 rows × 14 columns</p>\n",
       "</div>"
      ],
      "text/plain": [
       "     txt_id                                               text heading  \\\n",
       "0      p1_a  This article may be used for research, teachin...     NaN   \n",
       "1      p2_a  It is striking that in the short history of so...     NaN   \n",
       "2      p3_a  La lettura è un'attività cognitiva che pervade...     NaN   \n",
       "3      p4_a  Role of land-surface changes in arctic summer ...     NaN   \n",
       "4      p5_a  Background. We measured psychopathic traits in...     NaN   \n",
       "..      ...                                                ...     ...   \n",
       "114  p145_a  Fast Science is bad for scientists and bad for...     NaN   \n",
       "115  p146_a  One contribution of 16 to a discussion meeting...     NaN   \n",
       "116  p148_a  Recent studies on mentalizing have shown that ...     NaN   \n",
       "117  p152_a  Developmental cognitive neuroscience is flouri...     NaN   \n",
       "118  p154_a  The concept of autism is a significant contrib...     NaN   \n",
       "\n",
       "     n_publication_ref  n_figure_ref    id  \\\n",
       "0                  NaN           NaN    p1   \n",
       "1                  NaN           NaN    p2   \n",
       "2                  NaN           NaN    p3   \n",
       "3                  NaN           NaN    p4   \n",
       "4                  NaN           NaN    p5   \n",
       "..                 ...           ...   ...   \n",
       "114                NaN           NaN  p145   \n",
       "115                NaN           NaN  p146   \n",
       "116                NaN           NaN  p148   \n",
       "117                NaN           NaN  p152   \n",
       "118                NaN           NaN  p154   \n",
       "\n",
       "                                                 title        date  \\\n",
       "0    Animated triangles: An eye tracking investigation  2008-12-10   \n",
       "1    Implicit and explicit processes in social cogn...  2008-11-06   \n",
       "2    EFFETTI CULTURALI NELLA LETTURA IN SOGGETTI NO...         NaN   \n",
       "3    Can autistic children predict behavior by soci...         NaN   \n",
       "4    Autism spectrum disorder and psychopathy : sha...         NaN   \n",
       "..                                                 ...         ...   \n",
       "114                          Fast Lane to Slow Science         NaN   \n",
       "115                                                NaN         NaN   \n",
       "116  F o r P e e r R e v i e w Knowing Me, Knowing ...         NaN   \n",
       "117               Developmental Cognitive Neuroscience  2019-06-01   \n",
       "118  Annual Research Review: Looking back to look f...  2019-11-12   \n",
       "\n",
       "                              doi  \\\n",
       "0       10.1080/17470210802384214   \n",
       "1    10.1016/j.neuron.2008.10.032   \n",
       "2                             NaN   \n",
       "3                             NaN   \n",
       "4       10.1017/S0033291706008853   \n",
       "..                            ...   \n",
       "114    10.1016/j.tics.2019.10.007   \n",
       "115        10.1098/rstb.2017.0361   \n",
       "116  10.1016/0010-0277(85)90022-8   \n",
       "117     10.1016/j.dcn.2019.100669   \n",
       "118            10.1111/jcpp.13176   \n",
       "\n",
       "                                              abstract  \\\n",
       "0    This article may be used for research, teachin...   \n",
       "1    It is striking that in the short history of so...   \n",
       "2    La lettura è un'attività cognitiva che pervade...   \n",
       "3    Role of land-surface changes in arctic summer ...   \n",
       "4    Background. We measured psychopathic traits in...   \n",
       "..                                                 ...   \n",
       "114  Fast Science is bad for scientists and bad for...   \n",
       "115  One contribution of 16 to a discussion meeting...   \n",
       "116  Recent studies on mentalizing have shown that ...   \n",
       "117  Developmental cognitive neuroscience is flouri...   \n",
       "118  The concept of autism is a significant contrib...   \n",
       "\n",
       "                                         first_section  \\\n",
       "0    {'heading': '', 'text': 'In their classic work...   \n",
       "1    {'heading': 'Introduction', 'text': 'Research ...   \n",
       "2    {'heading': '', 'text': \"lare, più di 1000 com...   \n",
       "3    {'heading': '', 'text': 'Lawrence Hirschfeld 1...   \n",
       "4    {'heading': 'INTRODUCTION', 'text': \"Hans Aspe...   \n",
       "..                                                 ...   \n",
       "114  {'heading': '', 'text': \"More Speed, More Hast...   \n",
       "115  {'heading': '', 'text': \"Depression, schizophr...   \n",
       "116  {'heading': ' ', 'text': 'Goldman, 2006;\\nGopn...   \n",
       "117  {'heading': 'Introduction', 'text': 'The Flux ...   \n",
       "118  {'heading': 'Introduction', 'text': \"Just over...   \n",
       "\n",
       "                                                  path reconstructed_date  \\\n",
       "0    data/raw/UF Papers 2007-2008 copy/Klein Zwicke...         2008-12-10   \n",
       "1    data/raw/UF Papers 2007-2008 copy/F&F Preprint...         2008-11-06   \n",
       "2    data/raw/UF Papers 2007-2008 copy/Italian-Chap...               2007   \n",
       "3    data/raw/UF Papers 2007-2008 copy/Hirschfeld S...               2007   \n",
       "4    data/raw/UF Papers 2007-2008 copy/Rogers Vidin...               2007   \n",
       "..                                                 ...                ...   \n",
       "114  data/raw/UF papers 2014 - 2021 copy/Fast Lane ...               2019   \n",
       "115  data/raw/UF papers 2014 - 2021 copy/UF Preface...               2018   \n",
       "116  data/raw/UF papers 2014 - 2021 copy/Zinck et a...               2020   \n",
       "117  data/raw/UF papers 2014 - 2021 copy/UF Flux of...         2019-06-01   \n",
       "118  data/raw/UF papers 2014 - 2021 copy/Happé&Frit...         2019-11-12   \n",
       "\n",
       "     year  \n",
       "0    2008  \n",
       "1    2008  \n",
       "2    2007  \n",
       "3    2007  \n",
       "4    2007  \n",
       "..    ...  \n",
       "114  2019  \n",
       "115  2018  \n",
       "116  2020  \n",
       "117  2019  \n",
       "118  2019  \n",
       "\n",
       "[119 rows x 14 columns]"
      ]
     },
     "execution_count": 62,
     "metadata": {},
     "output_type": "execute_result"
    }
   ],
   "source": [
    "abstracts['year'] = abstracts['reconstructed_date'].str.split('-').str[0]\n",
    "abstracts"
   ]
  },
  {
   "cell_type": "code",
   "execution_count": 64,
   "metadata": {},
   "outputs": [],
   "source": [
    "import seaborn as sns\n",
    "import matplotlib.pyplot as plt\n",
    "\n",
    "from sklearn.decomposition import PCA\n",
    "from sklearn.metrics.pairwise import cosine_similarity"
   ]
  },
  {
   "cell_type": "code",
   "execution_count": 66,
   "metadata": {},
   "outputs": [],
   "source": [
    "abstracts['embedding'] = embeddings.tolist()"
   ]
  },
  {
   "cell_type": "code",
   "execution_count": 75,
   "metadata": {},
   "outputs": [
    {
     "data": {
      "text/plain": [
       "<Axes: xlabel='year'>"
      ]
     },
     "execution_count": 75,
     "metadata": {},
     "output_type": "execute_result"
    },
    {
     "data": {
      "image/png": "[encoded data removed]",
      "text/plain": [
       "<Figure size 640x480 with 1 Axes>"
      ]
     },
     "metadata": {},
     "output_type": "display_data"
    }
   ],
   "source": [
    "c_years = []\n",
    "c_mcos = []\n",
    "c_n_points = []\n",
    "for i, group in abstracts.groupby('year'):\n",
    "    yearly_embeddings = np.array(group['embedding'].tolist())\n",
    "    cossims = cosine_similarity(yearly_embeddings)\n",
    "    mean_cossim = np.mean(cossims)\n",
    "    c_years.append(i)\n",
    "    c_mcos.append(mean_cossim)\n",
    "    c_n_points.append(yearly_embeddings.shape[0])\n",
    "\n",
    "df_cossims = pd.DataFrame({'year': c_years, 'mean_cosine_similarity': c_mcos, 'n': c_n_points})\n",
    "df_cossims.plot(x='year', y='mean_cosine_similarity')"
   ]
  },
  {
   "cell_type": "code",
   "execution_count": 77,
   "metadata": {},
   "outputs": [
    {
     "data": {
      "text/plain": [
       "<Axes: xlabel='year'>"
      ]
     },
     "execution_count": 77,
     "metadata": {},
     "output_type": "execute_result"
    },
    {
     "data": {
      "image/png": "[encoded data removed]",
      "text/plain": [
       "<Figure size 640x480 with 1 Axes>"
      ]
     },
     "metadata": {},
     "output_type": "display_data"
    }
   ],
   "source": [
    "df_cossims.query('n > 1').plot(x='year', y='mean_cosine_similarity')"
   ]
  },
  {
   "cell_type": "code",
   "execution_count": null,
   "metadata": {},
   "outputs": [],
   "source": []
  }
 ],
 "metadata": {
  "kernelspec": {
   "display_name": ".venv",
   "language": "python",
   "name": "python3"
  },
  "language_info": {
   "codemirror_mode": {
    "name": "ipython",
    "version": 3
   },
   "file_extension": ".py",
   "mimetype": "text/x-python",
   "name": "python",
   "nbconvert_exporter": "python",
   "pygments_lexer": "ipython3",
   "version": "3.12.0"
  }
 },
 "nbformat": 4,
 "nbformat_minor": 2
}
